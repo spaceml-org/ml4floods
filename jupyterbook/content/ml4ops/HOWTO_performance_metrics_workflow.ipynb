{
 "cells": [
  {
   "cell_type": "markdown",
   "metadata": {},
   "source": [
    "# Model Metrics\n",
    "\n",
    "* **Last Modified**: 18-03-2022\n",
    "* **Authors**: Sam Budd, Gonzalo Mateo-García\n",
    "---\n",
    "\n",
    "This notebook shows how to compute metrics for a trained model on the *WorldFloods* test dataset. The notebook is divided in 4 steps:\n",
    "\n",
    "1. Load the config file of the experiment.\n",
    "1. Create a dataloader for the test dataset.\n",
    "1. Create the segmentation model and load their weights\n",
    "1. Run inference on all images in the dataset and compute metrics\n",
    "\n",
    "**Note**: If you run this notebook in Google Colab change the running environment to use a GPU."
   ]
  },
  {
   "cell_type": "code",
   "execution_count": null,
   "metadata": {
    "tags": [
     "remove-cell"
    ]
   },
   "outputs": [],
   "source": [
    "!pip install git+https://github.com/spaceml-org/ml4floods#egg=ml4floods"
   ]
  },
  {
   "cell_type": "code",
   "execution_count": 1,
   "metadata": {},
   "outputs": [],
   "source": [
    "import os"
   ]
  },
  {
   "cell_type": "markdown",
   "metadata": {},
   "source": [
    "## Step 0: Get the data\n",
    "\n",
    "For this tutorial we need the test dataset and the model trained on the *WorldFloods* dataset. For this tutorial we will get it from our [public Google Drive folder](https://drive.google.com/folderview?id=1dqFYWetX614r49kuVE3CbZwVO6qHvRVH). For other alternatives see [the download *WorldFloods* documentation](./worldfloods_dataset.md).\n",
    "\n",
    "### Step 0a: mount the Public folder if you are in Google Colab\n",
    "If you're running this tutorial in Google Colab you need to *‘add a shortcut to your Google Drive’* from the [public Google Drive folder](https://drive.google.com/folderview?id=1dqFYWetX614r49kuVE3CbZwVO6qHvRVH).\n",
    "\n",
    "![add_shortcut_drive.png](../prep/images/add_shortcut_drive.png)\n",
    "\n",
    "Then, mount that directory with the following code:"
   ]
  },
  {
   "cell_type": "code",
   "execution_count": null,
   "metadata": {},
   "outputs": [],
   "source": [
    "try:\n",
    "    from google.colab import drive\n",
    "    drive.mount('/content/drive')\n",
    "    assert os.path.exists('/content/drive/My Drive/Public WorldFloods Dataset'), \"Add a shortcut to the publice Google Drive folder: https://drive.google.com/drive/u/0/folders/1dqFYWetX614r49kuVE3CbZwVO6qHvRVH\"\n",
    "    google_colab = True\n",
    "    path_to_dataset_folder = '/content/drive/My Drive/Public WorldFloods Dataset'\n",
    "    dataset_folder = os.path.join(path_to_dataset_folder, \"worldfloods_v1_0_sample\")\n",
    "    experiment_name = \"WFV1_unet\"\n",
    "    folder_name_model_weights = os.path.join(path_to_dataset_folder, experiment_name)\n",
    "except ImportError as e:\n",
    "    print(e)\n",
    "    print(\"Setting google colab to false, it will need to install the gdown package!\")\n",
    "    google_colab = False"
   ]
  },
  {
   "cell_type": "markdown",
   "metadata": {},
   "source": [
    "### Step 0b: If you are in a jupyter notebook, download the data with the gdown package\n",
    "\n",
    "Download the data using the `gdown` package (if not installed run: `pip install gdown`)."
   ]
  },
  {
   "cell_type": "code",
   "execution_count": null,
   "metadata": {},
   "outputs": [],
   "source": [
    "\n",
    "# Download pre-trained model from Google Drive folder\n",
    "# Download pre-trained model from Google Drive folder\n",
    "if not google_colab:\n",
    "    experiment_name = \"WFV1_unet\"\n",
    "    # Download val folder\n",
    "    path_to_dataset_folder = '.'\n",
    "    dataset_folder = os.path.join(path_to_dataset_folder, \"worldfloods_v1_0_sample\")\n",
    "    folder_name_model_weights = os.path.join(path_to_dataset_folder, experiment_name)\n",
    "    if not os.path.exists(folder_name_model_weights):\n",
    "        import gdown\n",
    "        gdown.download_folder(id=\"1Oup-qVD1U-re3lIQkw7TOKJsdu90blsk\", quiet=False, use_cookies=False,\n",
    "                              output=folder_name_model_weights)\n",
    "\n",
    "    # Download val folder\n",
    "    test_folder = os.path.join(dataset_folder, \"test\")\n",
    "    if not os.path.exists(test_folder):\n",
    "        import gdown\n",
    "        os.makedirs(test_folder, exist_ok=True)\n",
    "        # https://drive.google.com/drive/folders/1Bp1FXppikOpQrgth2lu5WjpYX7Lb2qOW?usp=sharing\n",
    "        gdown.download_folder(id=\"1Bp1FXppikOpQrgth2lu5WjpYX7Lb2qOW\", quiet=False, use_cookies=False,\n",
    "                              output=test_folder)"
   ]
  },
  {
   "cell_type": "markdown",
   "metadata": {},
   "source": [
    "## Step 1: Get config"
   ]
  },
  {
   "cell_type": "code",
   "execution_count": 2,
   "metadata": {
    "tags": []
   },
   "outputs": [
    {
     "name": "stdout",
     "output_type": "stream",
     "text": [
      "Loaded Config for experiment:  WFV1_unet\n",
      "{   'data_params': {   'batch_size': 32,\n",
      "                       'bucket_id': 'ml4floods',\n",
      "                       'channel_configuration': 'all',\n",
      "                       'filter_windows': False,\n",
      "                       'input_folder': 'S2',\n",
      "                       'loader_type': 'local',\n",
      "                       'num_workers': 8,\n",
      "                       'path_to_splits': '/worldfloods/public',\n",
      "                       'target_folder': 'gt',\n",
      "                       'test_transformation': {   'normalize': True,\n",
      "                                                  'num_classes': 3,\n",
      "                                                  'totensor': True},\n",
      "                       'train_test_split_file': 'worldfloods/public/train_test_split.json',\n",
      "                       'train_transformation': {   'normalize': True,\n",
      "                                                   'num_classes': 3,\n",
      "                                                   'totensor': True},\n",
      "                       'window_size': [256, 256]},\n",
      "    'deploy': False,\n",
      "    'experiment_name': 'WFV1_unet',\n",
      "    'gpus': '0',\n",
      "    'model_params': {   'hyperparameters': {   'channel_configuration': 'all',\n",
      "                                               'label_names': [   'land',\n",
      "                                                                  'water',\n",
      "                                                                  'cloud'],\n",
      "                                               'lr': 0.0001,\n",
      "                                               'lr_decay': 0.5,\n",
      "                                               'lr_patience': 2,\n",
      "                                               'max_epochs': 25,\n",
      "                                               'max_tile_size': 256,\n",
      "                                               'model_type': 'unet',\n",
      "                                               'num_channels': 13,\n",
      "                                               'num_classes': 3,\n",
      "                                               'val_every': 1,\n",
      "                                               'weight_per_class': [   1.93445299,\n",
      "                                                                       36.60054169,\n",
      "                                                                       2.19400729]},\n",
      "                        'model_folder': 'gs://ml4cc_data_lake/0_DEV/2_Mart/2_MLModelMart',\n",
      "                        'path_to_weights': 'checkpoints/',\n",
      "                        'test': False,\n",
      "                        'train': True,\n",
      "                        'use_pretrained_weights': False},\n",
      "    'resume_from_checkpoint': False,\n",
      "    'seed': 12,\n",
      "    'test': False,\n",
      "    'train': False,\n",
      "    'wandb_entity': 'ml4floods',\n",
      "    'wandb_project': 'worldfloods'}\n"
     ]
    }
   ],
   "source": [
    "from ml4floods.models.config_setup import get_default_config\n",
    "\n",
    "config_fp = os.path.join(folder_name_model_weights, \"config.json\")\n",
    "# config_fp = f\"gs://ml4cc_data_lake/2_PROD/2_Mart/2_MLModelMart/{experiment_name}/config.json\"\n",
    "config = get_default_config(config_fp)\n",
    "config[\"model_params\"][\"max_tile_size\"] = 1024"
   ]
  },
  {
   "cell_type": "markdown",
   "metadata": {},
   "source": [
    "## Step 2: Load dataloader"
   ]
  },
  {
   "cell_type": "code",
   "execution_count": 3,
   "metadata": {},
   "outputs": [],
   "source": [
    "from ml4floods.models import dataset_setup\n",
    "\n",
    "config.data_params.loader_type = 'local'\n",
    "config.data_params.path_to_splits = dataset_folder # local folder to download the data\n",
    "config.data_params.bucket_id = \"\"\n",
    "config.data_params.train_test_split_file = None\n",
    "\n",
    "if \"filter_windows\" in config[\"data_params\"]:\n",
    "    del config[\"data_params\"][\"filter_windows\"]\n"
   ]
  },
  {
   "cell_type": "code",
   "execution_count": 4,
   "metadata": {
    "tags": []
   },
   "outputs": [
    {
     "name": "stdout",
     "output_type": "stream",
     "text": [
      "Using local dataset for this run\n",
      "Skip download train\n",
      "Downloading worldfloods_v1_sample/test/S2 if needed\n",
      "Downloaded (0/11) 2_PROD/2_Mart/worldfloods_v1_0/test/S2/EMSR286_08ITUANGONORTH_DEL_MONIT02_v1_observed_event_a.tif\n",
      "Downloaded (1/11) 2_PROD/2_Mart/worldfloods_v1_0/test/S2/EMSR286_09ITUANGOSOUTH_DEL_MONIT02_v1_observed_event_a.tif\n",
      "Downloaded (2/11) 2_PROD/2_Mart/worldfloods_v1_0/test/S2/EMSR333_01RATTALORO_DEL_MONIT01_v1_observed_event_a.tif\n",
      "Downloaded (3/11) 2_PROD/2_Mart/worldfloods_v1_0/test/S2/EMSR333_02PORTOPALO_DEL_MONIT01_v1_observed_event_a.tif\n",
      "Downloaded (4/11) 2_PROD/2_Mart/worldfloods_v1_0/test/S2/EMSR333_13TORRECOLONNASPERONE_DEL_MONIT01_v2_observed_event_a.tif\n",
      "Downloaded (5/11) 2_PROD/2_Mart/worldfloods_v1_0/test/S2/EMSR342_06NORTHNORMANTON_DEL_v1_observed_event_a.tif\n",
      "Downloaded (6/11) 2_PROD/2_Mart/worldfloods_v1_0/test/S2/EMSR342_07SOUTHNORMANTON_DEL_MONIT03_v2_observed_event_a.tif\n",
      "Downloaded (7/11) 2_PROD/2_Mart/worldfloods_v1_0/test/S2/EMSR347_06MWANZA_DEL_v1_observed_event_a.tif\n",
      "Downloaded (8/11) 2_PROD/2_Mart/worldfloods_v1_0/test/S2/EMSR347_07ZOMBA_DEL_MONIT01_v1_observed_event_a.tif\n",
      "Downloaded (9/11) 2_PROD/2_Mart/worldfloods_v1_0/test/S2/EMSR347_07ZOMBA_DEL_v2_observed_event_a.tif\n",
      "Downloaded (10/11) 2_PROD/2_Mart/worldfloods_v1_0/test/S2/EMSR9284_01YLITORNIONORTHERN_DEL_MONIT01_v1_observed_event_a.tif\n",
      "Downloading worldfloods_v1_sample/test/gt if needed\n",
      "Downloaded (0/11) 2_PROD/2_Mart/worldfloods_v1_0/test/gt/EMSR286_08ITUANGONORTH_DEL_MONIT02_v1_observed_event_a.tif\n",
      "Downloaded (1/11) 2_PROD/2_Mart/worldfloods_v1_0/test/gt/EMSR286_09ITUANGOSOUTH_DEL_MONIT02_v1_observed_event_a.tif\n",
      "Downloaded (2/11) 2_PROD/2_Mart/worldfloods_v1_0/test/gt/EMSR333_01RATTALORO_DEL_MONIT01_v1_observed_event_a.tif\n",
      "Downloaded (3/11) 2_PROD/2_Mart/worldfloods_v1_0/test/gt/EMSR333_02PORTOPALO_DEL_MONIT01_v1_observed_event_a.tif\n",
      "Downloaded (4/11) 2_PROD/2_Mart/worldfloods_v1_0/test/gt/EMSR333_13TORRECOLONNASPERONE_DEL_MONIT01_v2_observed_event_a.tif\n",
      "Downloaded (5/11) 2_PROD/2_Mart/worldfloods_v1_0/test/gt/EMSR342_06NORTHNORMANTON_DEL_v1_observed_event_a.tif\n",
      "Downloaded (6/11) 2_PROD/2_Mart/worldfloods_v1_0/test/gt/EMSR342_07SOUTHNORMANTON_DEL_MONIT03_v2_observed_event_a.tif\n",
      "Downloaded (7/11) 2_PROD/2_Mart/worldfloods_v1_0/test/gt/EMSR347_06MWANZA_DEL_v1_observed_event_a.tif\n",
      "Downloaded (8/11) 2_PROD/2_Mart/worldfloods_v1_0/test/gt/EMSR347_07ZOMBA_DEL_MONIT01_v1_observed_event_a.tif\n",
      "Downloaded (9/11) 2_PROD/2_Mart/worldfloods_v1_0/test/gt/EMSR347_07ZOMBA_DEL_v2_observed_event_a.tif\n",
      "Downloaded (10/11) 2_PROD/2_Mart/worldfloods_v1_0/test/gt/EMSR9284_01YLITORNIONORTHERN_DEL_MONIT01_v1_observed_event_a.tif\n",
      "Skip download val\n",
      "train 6298  tiles\n",
      "val 1284  tiles\n",
      "test 11  tiles\n"
     ]
    }
   ],
   "source": [
    "from ml4floods.data.worldfloods.dataset import WorldFloodsDatasetTiled, WorldFloodsDataset\n",
    "from glob import glob\n",
    "from ml4floods.models.model_setup import get_channel_configuration_bands\n",
    "\n",
    "bands_read_s2 = get_channel_configuration_bands(config.data_params.channel_configuration)\n",
    "test_files = glob(os.path.join(dataset_folder, \"test\",\"S2\", \"*.tif\"))\n",
    "\n",
    "train_transforms, test_transforms = dataset_setup.get_transformations(config.data_params)\n",
    "\n",
    "test_dataset = WorldFloodsDataset(\n",
    "            image_files=test_files,\n",
    "            image_prefix=\"/S2/\",\n",
    "            gt_prefix=\"/gt/\",\n",
    "            bands=bands_read_s2,\n",
    "            transforms=test_transforms,\n",
    "            lock_read=False\n",
    "        )\n",
    "print(f\"There are {len(test_dataset)} images in the dataset\")"
   ]
  },
  {
   "cell_type": "code",
   "execution_count": 5,
   "metadata": {},
   "outputs": [],
   "source": [
    "from torch.utils.data import DataLoader\n",
    "dl = DataLoader(test_dataset, batch_size=1,\n",
    "                num_workers=1, shuffle=False)\n",
    "# dl = data_module.val_dataloader()"
   ]
  },
  {
   "cell_type": "markdown",
   "metadata": {},
   "source": [
    "## Step 3: Load a trained model"
   ]
  },
  {
   "cell_type": "code",
   "execution_count": 6,
   "metadata": {},
   "outputs": [
    {
     "data": {
      "text/plain": [
       "WorldFloodsModel(\n",
       "  (network): UNet(\n",
       "    (dconv_down1): Sequential(\n",
       "      (0): Conv2d(13, 64, kernel_size=(3, 3), stride=(1, 1), padding=(1, 1))\n",
       "      (1): ReLU(inplace=True)\n",
       "      (2): Conv2d(64, 64, kernel_size=(3, 3), stride=(1, 1), padding=(1, 1))\n",
       "      (3): ReLU(inplace=True)\n",
       "    )\n",
       "    (dconv_down2): Sequential(\n",
       "      (0): Conv2d(64, 128, kernel_size=(3, 3), stride=(1, 1), padding=(1, 1))\n",
       "      (1): ReLU(inplace=True)\n",
       "      (2): Conv2d(128, 128, kernel_size=(3, 3), stride=(1, 1), padding=(1, 1))\n",
       "      (3): ReLU(inplace=True)\n",
       "    )\n",
       "    (dconv_down3): Sequential(\n",
       "      (0): Conv2d(128, 256, kernel_size=(3, 3), stride=(1, 1), padding=(1, 1))\n",
       "      (1): ReLU(inplace=True)\n",
       "      (2): Conv2d(256, 256, kernel_size=(3, 3), stride=(1, 1), padding=(1, 1))\n",
       "      (3): ReLU(inplace=True)\n",
       "    )\n",
       "    (dconv_down4): Sequential(\n",
       "      (0): Conv2d(256, 512, kernel_size=(3, 3), stride=(1, 1), padding=(1, 1))\n",
       "      (1): ReLU(inplace=True)\n",
       "      (2): Conv2d(512, 512, kernel_size=(3, 3), stride=(1, 1), padding=(1, 1))\n",
       "      (3): ReLU(inplace=True)\n",
       "    )\n",
       "    (maxpool): MaxPool2d(kernel_size=2, stride=2, padding=0, dilation=1, ceil_mode=False)\n",
       "    (dconv_up3): Sequential(\n",
       "      (0): Conv2d(768, 256, kernel_size=(3, 3), stride=(1, 1), padding=(1, 1))\n",
       "      (1): ReLU(inplace=True)\n",
       "      (2): Conv2d(256, 256, kernel_size=(3, 3), stride=(1, 1), padding=(1, 1))\n",
       "      (3): ReLU(inplace=True)\n",
       "    )\n",
       "    (dconv_up2): Sequential(\n",
       "      (0): Conv2d(384, 128, kernel_size=(3, 3), stride=(1, 1), padding=(1, 1))\n",
       "      (1): ReLU(inplace=True)\n",
       "      (2): Conv2d(128, 128, kernel_size=(3, 3), stride=(1, 1), padding=(1, 1))\n",
       "      (3): ReLU(inplace=True)\n",
       "    )\n",
       "    (dconv_up1): Sequential(\n",
       "      (0): Conv2d(192, 64, kernel_size=(3, 3), stride=(1, 1), padding=(1, 1))\n",
       "      (1): ReLU(inplace=True)\n",
       "      (2): Conv2d(64, 64, kernel_size=(3, 3), stride=(1, 1), padding=(1, 1))\n",
       "      (3): ReLU(inplace=True)\n",
       "    )\n",
       "    (conv_last): Conv2d(64, 3, kernel_size=(1, 1), stride=(1, 1))\n",
       "  )\n",
       ")"
      ]
     },
     "execution_count": 6,
     "metadata": {},
     "output_type": "execute_result"
    }
   ],
   "source": [
    "from ml4floods.models.model_setup import get_model\n",
    "\n",
    "model_folder = os.path.dirname(folder_name_model_weights)\n",
    "if model_folder == \"\":\n",
    "    model_folder = \".\"\n",
    "    \n",
    "config[\"model_params\"]['model_folder'] = model_folder\n",
    "config[\"model_params\"]['test'] = True\n",
    "model = get_model(config.model_params, experiment_name)\n",
    "\n",
    "model.eval()\n",
    "model.to(\"cuda\")"
   ]
  },
  {
   "cell_type": "markdown",
   "metadata": {},
   "source": [
    "## Step 4: Run inference on all the images in the test dataset"
   ]
  },
  {
   "cell_type": "code",
   "execution_count": 7,
   "metadata": {},
   "outputs": [
    {
     "name": "stdout",
     "output_type": "stream",
     "text": [
      "Getting model inference function\n",
      "Max tile size: 256\n"
     ]
    }
   ],
   "source": [
    "from ml4floods.models.model_setup import get_model_inference_function\n",
    "\n",
    "if config[\"model_params\"].get(\"model_version\",\"v1\") == \"v2\":\n",
    "    inf_func = get_model_inference_function(model, config, apply_normalization=False, \n",
    "                                        activation=\"sigmoid\")\n",
    "    print(\"v2 inference function converted to v1\")\n",
    "    def inference_function(x):\n",
    "        dual_head_output = inf_func(x)\n",
    "        B, C, H, W = dual_head_output.shape\n",
    "        out = torch.zeros((B, 3, H, W),dtype=dual_head_output.dtype)\n",
    "        out[:, 2] = dual_head_output[:, 0]\n",
    "        out[:, 1] = (1 - dual_head_output[:, 0]) * dual_head_output[:, 1]\n",
    "        out[:, 0] = (1 - dual_head_output[:, 0]) * (1 - dual_head_output[:, 1])\n",
    "        return out\n",
    "else:\n",
    "    inference_function = get_model_inference_function(model, config, apply_normalization=False, \n",
    "                                                      activation=\"softmax\")"
   ]
  },
  {
   "cell_type": "code",
   "execution_count": 8,
   "metadata": {},
   "outputs": [
    {
     "name": "stderr",
     "output_type": "stream",
     "text": [
      "100%|██████████| 11/11 [02:17<00:00, 12.50s/it]\n"
     ]
    },
    {
     "data": {
      "image/png": "[encoded data removed]",
      "text/plain": [
       "<Figure size 720x720 with 2 Axes>"
      ]
     },
     "metadata": {
      "needs_background": "light"
     },
     "output_type": "display_data"
    },
    {
     "data": {
      "image/png": "[encoded data removed]",
      "text/plain": [
       "<Figure size 1152x648 with 2 Axes>"
      ]
     },
     "metadata": {
      "needs_background": "light"
     },
     "output_type": "display_data"
    },
    {
     "name": "stdout",
     "output_type": "stream",
     "text": [
      "Per Class IOU {\n",
      "    \"cloud\": 0.9029077785566316,\n",
      "    \"land\": 0.8734460214394203,\n",
      "    \"water\": 0.7296114155197847\n",
      "}\n"
     ]
    }
   ],
   "source": [
    "import torch\n",
    "import numpy as np\n",
    "import pandas as pd\n",
    "from ml4floods.models.utils import metrics\n",
    "\n",
    "# Otherwise fails when reading test dataset from remote bucket\n",
    "# torch.set_num_threads(1)\n",
    "\n",
    "thresholds_water = [0,1e-3,1e-2]+np.arange(0.5,.96,.05).tolist() + [.99,.995,.999]\n",
    "\n",
    "mets = metrics.compute_metrics(\n",
    "    dl,\n",
    "    inference_function, \n",
    "    mask_clouds=False,\n",
    "    convert_targets=False,\n",
    "    thresholds_water=thresholds_water, \n",
    "    plot=False)\n",
    "\n",
    "label_names = [\"land\", \"water\", \"cloud\"]\n",
    "metrics.plot_metrics(mets, label_names)"
   ]
  },
  {
   "cell_type": "markdown",
   "metadata": {},
   "source": [
    "## Step 5: Compute the metrics for each flood in the test dataset"
   ]
  },
  {
   "cell_type": "code",
   "execution_count": 9,
   "metadata": {},
   "outputs": [
    {
     "name": "stdout",
     "output_type": "stream",
     "text": [
      "Mean values across flood events: {'Recall_land': 89.13838818450972, 'Recall_water': 91.76496994702889, 'Recall_cloud': 97.21174578522877, 'IoU_land': 87.7264665724063, 'IoU_water': 74.14875561083508, 'IoU_cloud': 70.01686774881253}\n"
     ]
    },
    {
     "data": {
      "text/html": [
       "<div>\n",
       "<style scoped>\n",
       "    .dataframe tbody tr th:only-of-type {\n",
       "        vertical-align: middle;\n",
       "    }\n",
       "\n",
       "    .dataframe tbody tr th {\n",
       "        vertical-align: top;\n",
       "    }\n",
       "\n",
       "    .dataframe thead th {\n",
       "        text-align: right;\n",
       "    }\n",
       "</style>\n",
       "<table border=\"1\" class=\"dataframe\">\n",
       "  <thead>\n",
       "    <tr style=\"text-align: right;\">\n",
       "      <th></th>\n",
       "      <th>Recall_land</th>\n",
       "      <th>Recall_water</th>\n",
       "      <th>Recall_cloud</th>\n",
       "      <th>IoU_land</th>\n",
       "      <th>IoU_water</th>\n",
       "      <th>IoU_cloud</th>\n",
       "    </tr>\n",
       "    <tr>\n",
       "      <th>code</th>\n",
       "      <th></th>\n",
       "      <th></th>\n",
       "      <th></th>\n",
       "      <th></th>\n",
       "      <th></th>\n",
       "      <th></th>\n",
       "    </tr>\n",
       "  </thead>\n",
       "  <tbody>\n",
       "    <tr>\n",
       "      <th>EMSR286 (Colombia)</th>\n",
       "      <td>95.778702</td>\n",
       "      <td>96.101370</td>\n",
       "      <td>98.995128</td>\n",
       "      <td>94.452269</td>\n",
       "      <td>85.104708</td>\n",
       "      <td>96.259330</td>\n",
       "    </tr>\n",
       "    <tr>\n",
       "      <th>EMSR333 (Italy)</th>\n",
       "      <td>90.776235</td>\n",
       "      <td>86.642480</td>\n",
       "      <td>99.119989</td>\n",
       "      <td>89.956551</td>\n",
       "      <td>59.949436</td>\n",
       "      <td>73.404743</td>\n",
       "    </tr>\n",
       "    <tr>\n",
       "      <th>EMSR342 (Australia)</th>\n",
       "      <td>69.510674</td>\n",
       "      <td>97.022392</td>\n",
       "      <td>92.000729</td>\n",
       "      <td>67.419744</td>\n",
       "      <td>72.314018</td>\n",
       "      <td>89.287511</td>\n",
       "    </tr>\n",
       "    <tr>\n",
       "      <th>EMSR347 (Malawi)</th>\n",
       "      <td>98.848191</td>\n",
       "      <td>81.740996</td>\n",
       "      <td>95.942883</td>\n",
       "      <td>96.865007</td>\n",
       "      <td>76.443802</td>\n",
       "      <td>91.132753</td>\n",
       "    </tr>\n",
       "    <tr>\n",
       "      <th>EMSR284 (Finland)</th>\n",
       "      <td>90.778140</td>\n",
       "      <td>97.317612</td>\n",
       "      <td>100.000000</td>\n",
       "      <td>89.938762</td>\n",
       "      <td>76.931815</td>\n",
       "      <td>0.000002</td>\n",
       "    </tr>\n",
       "  </tbody>\n",
       "</table>\n",
       "</div>"
      ],
      "text/plain": [
       "                     Recall_land  Recall_water  Recall_cloud   IoU_land  \\\n",
       "code                                                                      \n",
       "EMSR286 (Colombia)     95.778702     96.101370     98.995128  94.452269   \n",
       "EMSR333 (Italy)        90.776235     86.642480     99.119989  89.956551   \n",
       "EMSR342 (Australia)    69.510674     97.022392     92.000729  67.419744   \n",
       "EMSR347 (Malawi)       98.848191     81.740996     95.942883  96.865007   \n",
       "EMSR284 (Finland)      90.778140     97.317612    100.000000  89.938762   \n",
       "\n",
       "                     IoU_water  IoU_cloud  \n",
       "code                                       \n",
       "EMSR286 (Colombia)   85.104708  96.259330  \n",
       "EMSR333 (Italy)      59.949436  73.404743  \n",
       "EMSR342 (Australia)  72.314018  89.287511  \n",
       "EMSR347 (Malawi)     76.443802  91.132753  \n",
       "EMSR284 (Finland)    76.931815   0.000002  "
      ]
     },
     "execution_count": 9,
     "metadata": {},
     "output_type": "execute_result"
    }
   ],
   "source": [
    "CODES_LOC = {\"EMSR333\": \"EMSR333 (Italy)\",\n",
    "             \"EMSR9284\": \"EMSR284 (Finland)\",\n",
    "             \"EMSR347\": \"EMSR347 (Malawi)\",\n",
    "             \"EMSR286\": \"EMSR286 (Colombia)\",\n",
    "             \"EMSR342\": \"EMSR342 (Australia)\"\n",
    "            }\n",
    "\n",
    "if hasattr(dl.dataset, \"image_files\"):\n",
    "    cems_code = [os.path.basename(f).split(\"_\")[0] for f in dl.dataset.image_files]\n",
    "else:\n",
    "    cems_code = [os.path.basename(f.file_name).split(\"_\")[0] for f in dl.dataset.list_of_windows]\n",
    "\n",
    "iou_per_code = pd.DataFrame(metrics.group_confusion(mets[\"confusions\"],cems_code, metrics.calculate_iou,\n",
    "                                                    label_names=[f\"IoU_{l}\"for l in [\"land\", \"water\", \"cloud\"]]))\n",
    "\n",
    "recall_per_code = pd.DataFrame(metrics.group_confusion(mets[\"confusions\"],cems_code, metrics.calculate_recall,\n",
    "                                                       label_names=[f\"Recall_{l}\"for l in [\"land\", \"water\", \"cloud\"]]))\n",
    "\n",
    "join_data_per_code = pd.merge(recall_per_code,iou_per_code,on=\"code\")\n",
    "join_data_per_code[\"code\"] = join_data_per_code[\"code\"].apply(lambda x: CODES_LOC.get(x,x))\n",
    "join_data_per_code = join_data_per_code.set_index(\"code\")\n",
    "join_data_per_code = join_data_per_code*100\n",
    "print(f\"Mean values across flood events: {join_data_per_code.mean(axis=0).to_dict()}\")\n",
    "join_data_per_code"
   ]
  }
 ],
 "metadata": {
  "celltoolbar": "Edit Metadata",
  "kernelspec": {
   "display_name": "Python [conda env:ml4floods]",
   "language": "python",
   "name": "conda-env-ml4floods-py"
  },
  "language_info": {
   "codemirror_mode": {
    "name": "ipython",
    "version": 3
   },
   "file_extension": ".py",
   "mimetype": "text/x-python",
   "name": "python",
   "nbconvert_exporter": "python",
   "pygments_lexer": "ipython3",
   "version": "3.9.9"
  }
 },
 "nbformat": 4,
 "nbformat_minor": 5
}
