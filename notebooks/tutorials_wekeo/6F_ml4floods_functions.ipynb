{
 "cells": [
  {
   "cell_type": "markdown",
   "metadata": {},
   "source": [
    "<center><img src='../../img/ai4eo_logos.jpg' alt='Logos AI4EO MOOC' width='80%'></img></center>"
   ]
  },
  {
   "cell_type": "markdown",
   "metadata": {},
   "source": [
    "<hr>"
   ]
  },
  {
   "cell_type": "markdown",
   "metadata": {},
   "source": [
    "<br>"
   ]
  },
  {
   "cell_type": "markdown",
   "metadata": {},
   "source": [
    "<a href=\"https://www.futurelearn.com/courses/artificial-intelligence-for-earth-monitoring/1/steps/1183058\"><< Back to FutureLearn</a><br>"
   ]
  },
  {
   "cell_type": "markdown",
   "metadata": {},
   "source": [
    "# ML4Floods - Helper functions"
   ]
  },
  {
   "cell_type": "markdown",
   "metadata": {},
   "source": [
    "<i>by Sam Budd and Gonzalo Mateo-Garcia, Frontier Development Lab</i>"
   ]
  },
  {
   "cell_type": "markdown",
   "metadata": {},
   "source": [
    "This notebook lists a set of helper functions required for running the [inference process](./6F_ml4floods_inference.ipynb) of the `ML4Floods` example. "
   ]
  },
  {
   "cell_type": "markdown",
   "metadata": {},
   "source": [
    "### Functions overview"
   ]
  },
  {
   "cell_type": "markdown",
   "metadata": {},
   "source": [
    "* [read_inference_pair](#read_inference_pair)\n",
    "* [gt_with_permanent_water](#gt_with_permanent_water)\n",
    "* [get_cmap_norm_colors](#get_cmap_norm_colors)\n",
    "* [plot_inference_set](#plot_inference_set)"
   ]
  },
  {
   "cell_type": "markdown",
   "metadata": {},
   "source": [
    "<hr>"
   ]
  },
  {
   "cell_type": "markdown",
   "metadata": {},
   "source": [
    "### Load libraries"
   ]
  },
  {
   "cell_type": "code",
   "execution_count": 1,
   "metadata": {},
   "outputs": [],
   "source": [
    "import rasterio\n",
    "import numpy as np\n",
    "from rasterio import plot as rasterioplt\n",
    "import matplotlib.pyplot as plt\n",
    "from matplotlib import colors\n",
    "import matplotlib.patches as mpatches\n",
    "\n",
    "from typing import Optional, Tuple, Union\n",
    "\n",
    "import torch\n",
    "from ml4floods.data.worldfloods.configs import BANDS_S2\n",
    "from ml4floods.visualization.plot_utils import download_tiff\n",
    "import os"
   ]
  },
  {
   "cell_type": "markdown",
   "metadata": {},
   "source": [
    "<hr>"
   ]
  },
  {
   "cell_type": "markdown",
   "metadata": {},
   "source": [
    "### `Set global variables`"
   ]
  },
  {
   "cell_type": "code",
   "execution_count": 2,
   "metadata": {},
   "outputs": [],
   "source": [
    "COLORS_WORLDFLOODS = np.array([[0, 0, 0], # invalid\n",
    "                               [139, 64, 0], # land\n",
    "                               [0, 0, 139], # water\n",
    "                               [220, 220, 220]], # cloud\n",
    "                              dtype=np.float32) / 255\n",
    "\n",
    "INTERPRETATION_WORLDFLOODS = [\"invalid\", \"land\", \"water\", \"cloud\"]\n",
    "\n",
    "COLORS_WORLDFLOODS_PERMANENT = np.array([[0, 0, 0], # 0: invalid\n",
    "                                         [139, 64, 0], # 1: land\n",
    "                                         [237, 0, 0], # 2: flood_water\n",
    "                                         [220, 220, 220], # 3: cloud\n",
    "                                         [0, 0, 139], # 4: permanent_water\n",
    "                                         [60, 85, 92]], # 5: seasonal_water\n",
    "                                        dtype=np.float32) / 255\n",
    "\n",
    "INTERPRETATION_WORLDFLOODS_PERMANENT = [\"invalid\", \"land\", \"flood water\", \"cloud\", \"permanent water\", \"seasonal water\"]"
   ]
  },
  {
   "cell_type": "markdown",
   "metadata": {},
   "source": [
    "<hr>"
   ]
  },
  {
   "cell_type": "markdown",
   "metadata": {},
   "source": [
    "### <a id='read_inference_pair'></a> `read_inference_pair`"
   ]
  },
  {
   "cell_type": "code",
   "execution_count": 2,
   "metadata": {},
   "outputs": [],
   "source": [
    "@torch.no_grad() #Deactivate autograd engine\n",
    "def read_inference_pair(tiff_inputs:str, folder_ground_truth:str, \n",
    "                        window:Optional[Union[rasterio.windows.Window, Tuple[slice,slice]]], \n",
    "                        return_ground_truth: bool=False, channels:bool=None, \n",
    "                        folder_permanent_water:Optional[str]=None,\n",
    "                        cache_folder:Optional[str]=None) -> Tuple[torch.Tensor, torch.Tensor, torch.Tensor, rasterio.Affine]:\n",
    "    \"\"\"\n",
    "    Read a pair of layers from the worldfloods bucket and return them as Tensors to pass to a model, return the transform for plotting with lat/long\n",
    "    \n",
    "    Args:\n",
    "        tiff_inputs: filename for layer in worldfloods bucket\n",
    "        folder_ground_truth: folder name to be replaced by S2 in the input\n",
    "        window: window of layer to use\n",
    "        return_ground_truth: flag to indicate if paired gt layer should be returned\n",
    "        channels: list of channels to read from the image\n",
    "        return_permanent_water: Read permanent water layer raster\n",
    "    \n",
    "    Returns:\n",
    "        (torch_inputs, torch_targets, transform): inputs Tensor, gt Tensor, transform for plotting with lat/long\n",
    "    \"\"\"\n",
    "    \n",
    "    if cache_folder is not None and tiff_inputs.startswith(\"gs\"):\n",
    "        tiff_inputs = download_tiff(cache_folder, tiff_inputs, folder_ground_truth, folder_permanent_water)\n",
    "    \n",
    "    tiff_targets = tiff_inputs.replace(\"/S2/\", folder_ground_truth)\n",
    "\n",
    "    with rasterio.open(tiff_inputs, \"r\") as rst:\n",
    "        inputs = rst.read((np.array(channels) + 1).tolist(), window=window)\n",
    "        # Shifted transform based on the given window (used for plotting)\n",
    "        transform = rst.transform if window is None else rasterio.windows.transform(window, rst.transform)\n",
    "        torch_inputs = torch.Tensor(inputs.astype(np.float32)).unsqueeze(0)\n",
    "    \n",
    "    if folder_permanent_water is not None:\n",
    "        tiff_permanent_water = tiff_inputs.replace(\"/S2/\", folder_permanent_water)\n",
    "        with rasterio.open(tiff_permanent_water, \"r\") as rst:\n",
    "            permanent_water = rst.read(1, window=window) \n",
    "            torch_permanent_water = torch.tensor(permanent_water.astype(np.int16))\n",
    "    else:\n",
    "        torch_permanent_water = torch.zeros_like(torch_inputs)\n",
    "        \n",
    "    if return_ground_truth:\n",
    "        with rasterio.open(tiff_targets, \"r\") as rst:\n",
    "            targets = rst.read(1, window=window)\n",
    "        \n",
    "        torch_targets = torch.tensor(targets.astype(np.int16)).unsqueeze(0)\n",
    "    else:\n",
    "        torch_targets = torch.zeros_like(torch_inputs)\n",
    "    \n",
    "    return torch_inputs, torch_targets, torch_permanent_water, transform"
   ]
  },
  {
   "cell_type": "markdown",
   "metadata": {},
   "source": [
    "<hr>"
   ]
  },
  {
   "cell_type": "markdown",
   "metadata": {},
   "source": [
    "### <a id='gt_with_permanent_water'></a> `gt_with_permanent_water`"
   ]
  },
  {
   "cell_type": "code",
   "execution_count": 4,
   "metadata": {},
   "outputs": [],
   "source": [
    "def gt_with_permanent_water(gt: np.ndarray, permanent_water: np.ndarray)->np.ndarray:\n",
    "    \"\"\" Permanent water taken from: https://developers.google.com/earth-engine/datasets/catalog/JRC_GSW1_2_YearlyHistory\"\"\"\n",
    "    gt[(gt == 2) & (permanent_water == 3)] = 4 # set as permanent_water\n",
    "    gt[(gt == 2) & (permanent_water == 2)] = 5 # set as seasonal water\n",
    "        \n",
    "    return gt"
   ]
  },
  {
   "cell_type": "markdown",
   "metadata": {},
   "source": [
    "<hr>"
   ]
  },
  {
   "cell_type": "markdown",
   "metadata": {},
   "source": [
    "### <a id='get_cmap_norm_colors'></a> `get_cmap_norm_colors`"
   ]
  },
  {
   "cell_type": "code",
   "execution_count": 5,
   "metadata": {},
   "outputs": [],
   "source": [
    "def get_cmap_norm_colors(color_array, interpretation_array):\n",
    "    cmap_categorical = colors.ListedColormap(color_array)\n",
    "    norm_categorical = colors.Normalize(vmin=-.5,\n",
    "                                        vmax=color_array.shape[0]-.5)\n",
    "    patches = []\n",
    "    for c, interp in zip(color_array, interpretation_array):\n",
    "        patches.append(mpatches.Patch(color=c, label=interp))\n",
    "    \n",
    "    return cmap_categorical, norm_categorical, patches"
   ]
  },
  {
   "cell_type": "markdown",
   "metadata": {},
   "source": [
    "<hr>"
   ]
  },
  {
   "cell_type": "markdown",
   "metadata": {},
   "source": [
    "### <a id='plot_inference_set'></a> `plot_inference_set`"
   ]
  },
  {
   "cell_type": "code",
   "execution_count": 6,
   "metadata": {},
   "outputs": [],
   "source": [
    "def plot_inference_set(inputs: torch.Tensor, targets: torch.Tensor, \n",
    "                       predictions: torch.Tensor, permanent_water: torch.Tensor, transform: rasterio.Affine)->None:\n",
    "    \"\"\"\n",
    "    Plots inputs, targets and prediction into lat/long visualisation\n",
    "    \n",
    "    Args:\n",
    "        inputs: input Tensor\n",
    "        targets: gt target Tensor\n",
    "        prediction: predictions output by model (softmax, argmax already applied)\n",
    "        permanent_water: permanent water raster\n",
    "        transform: transform used to plot with lat/long\n",
    "    \"\"\"\n",
    "    fig, ax = plt.subplots(2,2,figsize=(16,16))\n",
    "    \n",
    "    inputs_show = inputs.cpu().numpy().squeeze()\n",
    "    targets_show = targets.cpu().numpy().squeeze()\n",
    "    permanent_water_show = permanent_water.numpy().squeeze()\n",
    "    \n",
    "    targets_show = gt_with_permanent_water(targets_show, permanent_water_show)\n",
    "    \n",
    "    \n",
    "    # Color categories {-1: invalid, 0: land, 1: water, 2: clouds}\n",
    "    \n",
    "    cmap_preds, norm_preds, patches_preds = get_cmap_norm_colors(COLORS_WORLDFLOODS, INTERPRETATION_WORLDFLOODS)\n",
    "    cmap_gt, norm_gt, patches_gt = get_cmap_norm_colors(COLORS_WORLDFLOODS_PERMANENT, INTERPRETATION_WORLDFLOODS_PERMANENT)\n",
    "    \n",
    "    # +1 because value 0 is invalid\n",
    "    prediction_show = (predictions + 1).cpu().numpy().astype(float)\n",
    "\n",
    "    rgb = np.clip(inputs_show[[3,2,1], :, :]/3000.,0,1)\n",
    "    \n",
    "    bands_false_composite = [BANDS_S2.index(b) for b in [\"B11\", \"B8\", \"B4\"]] # swir_1, nir, red composite\n",
    "    false_rgb = np.clip(inputs_show[bands_false_composite, :, :]/3000.,0,1)\n",
    "    \n",
    "\n",
    "    rasterioplt.show(rgb,transform=transform,ax=ax[0,0])\n",
    "    ax[0,0].set_title(\"RGB Composite\")\n",
    "    rasterioplt.show(false_rgb,transform=transform,ax=ax[0,1])\n",
    "    ax[0,1].set_title(\"SWIR1,NIR,R Composite\")\n",
    "    rasterioplt.show(targets_show,transform=transform,ax=ax[1,0], cmap=cmap_gt, norm=norm_gt,\n",
    "                     interpolation='nearest')\n",
    "    rasterioplt.show(prediction_show, transform=transform, ax=ax[1,1],cmap=cmap_preds, norm=norm_preds,\n",
    "                     interpolation='nearest')\n",
    "    \n",
    "    ax[1,0].set_title(\"Ground Truth\")\n",
    "    ax[1,0].legend(handles=patches_gt,\n",
    "                 loc='upper right')\n",
    "    \n",
    "    ax[1,1].set_title(\"Model prediction\")\n",
    "    ax[1,1].legend(handles=patches_preds,\n",
    "                   loc='upper right')"
   ]
  },
  {
   "cell_type": "markdown",
   "metadata": {},
   "source": [
    "<br>"
   ]
  },
  {
   "cell_type": "markdown",
   "metadata": {},
   "source": [
    "<br>"
   ]
  },
  {
   "cell_type": "markdown",
   "metadata": {},
   "source": [
    "<a href=\"https://www.futurelearn.com/courses/artificial-intelligence-for-earth-monitoring/1/steps/1183058\"><< Back to FutureLearn</a><br>"
   ]
  },
  {
   "cell_type": "markdown",
   "metadata": {},
   "source": [
    "<hr>"
   ]
  },
  {
   "cell_type": "markdown",
   "metadata": {},
   "source": [
    "<img src='../../img/copernicus_logo.png' alt='Copernicus logo' align='left' width='20%'></img>"
   ]
  },
  {
   "cell_type": "markdown",
   "metadata": {},
   "source": [
    "Course developed for [EUMETSAT](https://www.eumetsat.int/), [ECMWF](https://www.ecmwf.int/) and [Mercator Ocean International](https://www.mercator-ocean.fr/en/) in support of the [EU’s Copernicus Programme](https://www.copernicus.eu/en) and the [WEkEO platform](https://wekeo.eu/).\n"
   ]
  }
 ],
 "metadata": {
  "kernelspec": {
   "display_name": "Python 3 (ipykernel)",
   "language": "python",
   "name": "python3"
  },
  "language_info": {
   "codemirror_mode": {
    "name": "ipython",
    "version": 3
   },
   "file_extension": ".py",
   "mimetype": "text/x-python",
   "name": "python",
   "nbconvert_exporter": "python",
   "pygments_lexer": "ipython3",
   "version": "3.8.10"
  }
 },
 "nbformat": 4,
 "nbformat_minor": 4
}
