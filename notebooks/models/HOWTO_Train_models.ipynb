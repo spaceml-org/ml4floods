{
 "cells": [
  {
   "cell_type": "markdown",
   "id": "superb-forty",
   "metadata": {},
   "source": [
    "![image.png](data:image/png;base64,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)"
   ]
  },
  {
   "cell_type": "markdown",
   "id": "instructional-frederick",
   "metadata": {},
   "source": [
    "# Tutorial 1: Train a Flood Extent segmentation model using the WorldFloods dataset"
   ]
  },
  {
   "cell_type": "markdown",
   "id": "accomplished-verse",
   "metadata": {},
   "source": [
    "## Step 0: Notebook setup\n",
    "    - Configure notebook basics\n",
    "    - Configure GCP Credentials"
   ]
  },
  {
   "cell_type": "code",
   "execution_count": 1,
   "id": "posted-toilet",
   "metadata": {},
   "outputs": [],
   "source": [
    "import sys, os\n",
    "from pathlib import Path\n",
    "from pyprojroot import here\n",
    "# spyder up to find the root\n",
    "root = here(project_files=[\".here\"])\n",
    "# append to path\n",
    "sys.path.append(str(here()))\n",
    "\n",
    "os.environ[\"GOOGLE_APPLICATION_CREDENTIALS\"] = \"/opt/creds/ML4CC_creds.json\"\n",
    "\n",
    "%load_ext autoreload\n",
    "%autoreload 2"
   ]
  },
  {
   "cell_type": "markdown",
   "id": "directed-lingerie",
   "metadata": {},
   "source": [
    "## Step 1: Setup Configuration file\n",
    "    - Load configuration file from local device or gcs"
   ]
  },
  {
   "cell_type": "code",
   "execution_count": 2,
   "id": "occupied-consumption",
   "metadata": {
    "tags": []
   },
   "outputs": [
    {
     "name": "stdout",
     "output_type": "stream",
     "text": [
      "Loaded Config for experiment:  worldfloods_demo_test\n",
      "{   'data_params': {   'batch_size': 32,\n",
      "                       'bucket_id': 'ml4floods',\n",
      "                       'channel_configuration': 'all',\n",
      "                       'filter_windows': {   'apply': False,\n",
      "                                             'threshold_clouds': 0.5,\n",
      "                                             'version': 'v1'},\n",
      "                       'input_folder': 'S2',\n",
      "                       'loader_type': 'local',\n",
      "                       'num_workers': 4,\n",
      "                       'path_to_splits': '/worldfloods/public',\n",
      "                       'target_folder': 'gt',\n",
      "                       'test_transformation': {'normalize': True},\n",
      "                       'train_test_split_file': 'worldfloods/public/train_test_split.json',\n",
      "                       'train_transformation': {'normalize': True},\n",
      "                       'window_size': [256, 256]},\n",
      "    'deploy': False,\n",
      "    'experiment_name': 'worldfloods_demo_test',\n",
      "    'gpus': '0',\n",
      "    'model_params': {   'hyperparameters': {   'channel_configuration': 'all',\n",
      "                                               'label_names': [   'land',\n",
      "                                                                  'water',\n",
      "                                                                  'cloud'],\n",
      "                                               'lr': 0.0001,\n",
      "                                               'lr_decay': 0.5,\n",
      "                                               'lr_patience': 2,\n",
      "                                               'max_epochs': 10,\n",
      "                                               'max_tile_size': 256,\n",
      "                                               'metric_monitor': 'val_dice_loss',\n",
      "                                               'model_type': 'linear',\n",
      "                                               'num_channels': 13,\n",
      "                                               'num_classes': 3,\n",
      "                                               'val_every': 1,\n",
      "                                               'weight_per_class': [   1.93445299,\n",
      "                                                                       36.60054169,\n",
      "                                                                       2.19400729]},\n",
      "                        'model_folder': 'gs://ml4cc_data_lake/0_DEV/2_Mart/2_MLModelMart',\n",
      "                        'model_version': 'v1',\n",
      "                        'test': True,\n",
      "                        'train': True},\n",
      "    'resume_from_checkpoint': False,\n",
      "    'seed': 12,\n",
      "    'test': False,\n",
      "    'train': False}\n"
     ]
    }
   ],
   "source": [
    "from src.models.config_setup import get_default_config\n",
    "\n",
    "# Set filepath to configuration files\n",
    "config_fp = os.path.join(root, 'src/models/configurations', 'worldfloods_template.json')\n",
    "config = get_default_config(config_fp)"
   ]
  },
  {
   "cell_type": "markdown",
   "id": "usual-unemployment",
   "metadata": {},
   "source": [
    "## Step 1.a: Seed everything for reproducibility"
   ]
  },
  {
   "cell_type": "code",
   "execution_count": 3,
   "id": "hybrid-notebook",
   "metadata": {},
   "outputs": [
    {
     "name": "stderr",
     "output_type": "stream",
     "text": [
      "Global seed set to 12\n"
     ]
    },
    {
     "data": {
      "text/plain": [
       "12"
      ]
     },
     "execution_count": 3,
     "metadata": {},
     "output_type": "execute_result"
    }
   ],
   "source": [
    "from pytorch_lightning import seed_everything\n",
    "# Seed\n",
    "seed_everything(config.seed)"
   ]
  },
  {
   "cell_type": "markdown",
   "id": "lined-preview",
   "metadata": {},
   "source": [
    "## Step 1.b: Make it a unique experiment\n",
    "    - 'experiment_name' is used to specify the folder in which to save models and associated files"
   ]
  },
  {
   "cell_type": "code",
   "execution_count": 4,
   "id": "senior-atlanta",
   "metadata": {},
   "outputs": [],
   "source": [
    "config.experiment_name = 'training_demo'"
   ]
  },
  {
   "cell_type": "markdown",
   "id": "specified-circumstances",
   "metadata": {},
   "source": [
    "## Step 2: Setup Dataloader\n",
    "    - 'loader_type' can be one of 'local' which assumes the images are already saved locally, or 'bucket' which will load images directly from the bucket specified in 'bucket_id'"
   ]
  },
  {
   "cell_type": "code",
   "execution_count": 5,
   "id": "handled-arrival",
   "metadata": {},
   "outputs": [
    {
     "name": "stdout",
     "output_type": "stream",
     "text": [
      "Using local dataset for this run\n",
      "train 196648  tiles\n",
      "val 1284  tiles\n",
      "test 11  tiles\n"
     ]
    }
   ],
   "source": [
    "from src.models.dataset_setup import get_dataset\n",
    "\n",
    "config.data_params.loader_type = 'local'\n",
    "config.data_params.path_to_splits = \"/worldfloods/public/\"\n",
    "dataset = get_dataset(config.data_params)"
   ]
  },
  {
   "cell_type": "markdown",
   "id": "seventh-tucson",
   "metadata": {},
   "source": [
    "## Step 3: Setup Model\n",
    "     - 'train' = True specifies that we are training a new model from scratch\n",
    "     - get_model(args) constructs a pytorch lightning model using the configuration specified in 'config.model_params'"
   ]
  },
  {
   "cell_type": "code",
   "execution_count": 6,
   "id": "overall-consumption",
   "metadata": {},
   "outputs": [
    {
     "data": {
      "text/plain": [
       "{'model_folder': 'gs://ml4cc_data_lake/0_DEV/2_Mart/2_MLModelMart',\n",
       " 'model_version': 'v1',\n",
       " 'hyperparameters': {'max_tile_size': 256,\n",
       "  'metric_monitor': 'val_dice_loss',\n",
       "  'channel_configuration': 'all',\n",
       "  'label_names': ['land', 'water', 'cloud'],\n",
       "  'weight_per_class': [1.93445299, 36.60054169, 2.19400729],\n",
       "  'model_type': 'linear',\n",
       "  'num_classes': 3,\n",
       "  'max_epochs': 10,\n",
       "  'val_every': 1,\n",
       "  'lr': 0.0001,\n",
       "  'lr_decay': 0.5,\n",
       "  'lr_patience': 2,\n",
       "  'num_channels': 13},\n",
       " 'train': True,\n",
       " 'test': True}"
      ]
     },
     "execution_count": 6,
     "metadata": {},
     "output_type": "execute_result"
    }
   ],
   "source": [
    "config.model_params"
   ]
  },
  {
   "cell_type": "code",
   "execution_count": 7,
   "id": "explicit-facility",
   "metadata": {},
   "outputs": [],
   "source": [
    "from src.models.model_setup import get_model\n",
    "\n",
    "config.model_params.test = False\n",
    "config.model_params.train = True\n",
    "model = get_model(config.model_params)"
   ]
  },
  {
   "cell_type": "markdown",
   "id": "instrumental-retirement",
   "metadata": {},
   "source": [
    "## Step 4: Set up Weights and Biases Logger for experiment\n",
    "    - We pass this to the model trainer in a later cell to automaticall log relevant metrics to wandb"
   ]
  },
  {
   "cell_type": "code",
   "execution_count": 8,
   "id": "joined-administrator",
   "metadata": {},
   "outputs": [
    {
     "name": "stderr",
     "output_type": "stream",
     "text": [
      "Failed to detect the name of this notebook, you can set it manually with the WANDB_NOTEBOOK_NAME environment variable to enable code saving.\n",
      "\u001b[34m\u001b[1mwandb\u001b[0m: Currently logged in as: \u001b[33mipl_uv\u001b[0m (use `wandb login --relogin` to force relogin)\n",
      "\u001b[34m\u001b[1mwandb\u001b[0m: wandb version 0.10.22 is available!  To upgrade, please run:\n",
      "\u001b[34m\u001b[1mwandb\u001b[0m:  $ pip install wandb --upgrade\n"
     ]
    },
    {
     "data": {
      "text/html": [
       "\n",
       "                Tracking run with wandb version 0.10.21<br/>\n",
       "                Syncing run <strong style=\"color:#cdcd00\">solar-morning-1</strong> to <a href=\"https://wandb.ai\" target=\"_blank\">Weights & Biases</a> <a href=\"https://docs.wandb.com/integrations/jupyter.html\" target=\"_blank\">(Documentation)</a>.<br/>\n",
       "                Project page: <a href=\"https://wandb.ai/ipl_uv/ml4floods-notebooks_models\" target=\"_blank\">https://wandb.ai/ipl_uv/ml4floods-notebooks_models</a><br/>\n",
       "                Run page: <a href=\"https://wandb.ai/ipl_uv/ml4floods-notebooks_models/runs/25j7wene\" target=\"_blank\">https://wandb.ai/ipl_uv/ml4floods-notebooks_models/runs/25j7wene</a><br/>\n",
       "                Run data is saved locally in <code>/home/gonzalo/ml4floods/notebooks/models/wandb/run-20210318_151018-25j7wene</code><br/><br/>\n",
       "            "
      ],
      "text/plain": [
       "<IPython.core.display.HTML object>"
      ]
     },
     "metadata": {},
     "output_type": "display_data"
    }
   ],
   "source": [
    "import wandb\n",
    "from pytorch_lightning.loggers import WandbLogger\n",
    "\n",
    "# UNCOMMENT ON FIRST RUN TO LOGIN TO Weights and Biases (only needs to be done once)\n",
    "wandb.login()\n",
    "run = wandb.init()\n",
    "\n",
    "# Specifies who is logging the experiment to wandb\n",
    "config['wandb_entity'] = 'ml4floods'\n",
    "# Specifies which wandb project to log to, multiple runs can exist in the same project\n",
    "config['wandb_project'] = 'worldfloods-notebook-demo-project'\n",
    "\n",
    "wandb_logger = WandbLogger(\n",
    "    name=config.experiment_name,\n",
    "    project=config.wandb_project, \n",
    "    entity=config.wandb_entity\n",
    ")"
   ]
  },
  {
   "cell_type": "markdown",
   "id": "nearby-referral",
   "metadata": {},
   "source": [
    "### Step 5: Setup Lightning Callbacks\n",
    "    - We implement checkpointing using the ModelCheckpoint callback to save the best performing checkpoints to local/gcs storage\n",
    "    - We implement early stopping using the EarlyStopping callback to stop training early if there is no performance improvement after 10 epochs from the latest best checkpoint"
   ]
  },
  {
   "cell_type": "code",
   "execution_count": 9,
   "id": "complicated-italic",
   "metadata": {},
   "outputs": [
    {
     "name": "stdout",
     "output_type": "stream",
     "text": [
      "gs://ml4cc_data_lake/0_DEV/2_Mart/2_MLModelMart/worldfloods-notebook-training-demo\n"
     ]
    },
    {
     "name": "stderr",
     "output_type": "stream",
     "text": [
      "/opt/miniconda3/envs/ml4floods/lib/python3.8/site-packages/pytorch_lightning/utilities/distributed.py:50: UserWarning: Checkpoint directory gs://ml4cc_data_lake/0_DEV/2_Mart/2_MLModelMart/worldfloods-notebook-training-demo/checkpoint exists and is not empty.\n",
      "  warnings.warn(*args, **kwargs)\n"
     ]
    }
   ],
   "source": [
    "from pytorch_lightning.callbacks import ModelCheckpoint, EarlyStopping\n",
    "experiment_path = f\"{config.model_params.model_folder}/{config.experiment_name}\"\n",
    "\n",
    "checkpoint_callback = ModelCheckpoint(\n",
    "    dirpath=f\"{experiment_path}/checkpoint\",\n",
    "    save_top_k=True,\n",
    "    verbose=True,\n",
    "    monitor='val_dice_loss',\n",
    "    mode='min',\n",
    "    prefix=''\n",
    ")\n",
    "\n",
    "early_stop_callback = EarlyStopping(\n",
    "    monitor='val_dice_loss',\n",
    "    patience=10,\n",
    "    strict=False,\n",
    "    verbose=False,\n",
    "    mode='min'\n",
    ")\n",
    "\n",
    "callbacks = [checkpoint_callback, early_stop_callback]\n",
    "\n",
    "print(f\"{config.model_params.model_folder}/{config.experiment_name}\")"
   ]
  },
  {
   "cell_type": "markdown",
   "id": "ignored-hunger",
   "metadata": {},
   "source": [
    "## Step 6: Setup Lighting Trainer\n",
    "    -- Pytorch Lightning Trainer handles all the rest of the model training for us!\n",
    "    -- add flags from \n",
    "    https://pytorch-lightning.readthedocs.io/en/0.7.5/trainer.html "
   ]
  },
  {
   "cell_type": "code",
   "execution_count": 10,
   "id": "executive-execution",
   "metadata": {},
   "outputs": [
    {
     "name": "stderr",
     "output_type": "stream",
     "text": [
      "GPU available: True, used: True\n",
      "TPU available: None, using: 0 TPU cores\n"
     ]
    }
   ],
   "source": [
    "from pytorch_lightning import Trainer\n",
    "\n",
    "config.gpus = '2'  # which gpu to use\n",
    "\n",
    "config.model_params.hyperparameters.max_epochs = 4 # train for maximum 4 epochs\n",
    "\n",
    "trainer = Trainer(\n",
    "    fast_dev_run=False,\n",
    "    logger=wandb_logger,\n",
    "    callbacks=callbacks,\n",
    "    default_root_dir=f\"{config.model_params.model_folder}/{config.experiment_name}\",\n",
    "    accumulate_grad_batches=1,\n",
    "    gradient_clip_val=0.0,\n",
    "    auto_lr_find=False,\n",
    "    benchmark=False,\n",
    "    distributed_backend=None,\n",
    "    gpus=config.gpus,\n",
    "    max_epochs=config.model_params.hyperparameters.max_epochs,\n",
    "    check_val_every_n_epoch=config.model_params.hyperparameters.val_every,\n",
    "    log_gpu_memory=None,\n",
    "    resume_from_checkpoint=None\n",
    ")"
   ]
  },
  {
   "cell_type": "markdown",
   "id": "engaged-timber",
   "metadata": {},
   "source": [
    "# Start Training!"
   ]
  },
  {
   "cell_type": "code",
   "execution_count": 11,
   "id": "protective-honey",
   "metadata": {},
   "outputs": [
    {
     "name": "stderr",
     "output_type": "stream",
     "text": [
      "\n",
      "  | Name    | Type         | Params\n",
      "-----------------------------------------\n",
      "0 | network | SimpleLinear | 42    \n",
      "-----------------------------------------\n",
      "42        Trainable params\n",
      "0         Non-trainable params\n",
      "42        Total params\n",
      "0.000     Total estimated model params size (MB)\n"
     ]
    },
    {
     "name": "stdout",
     "output_type": "stream",
     "text": [
      "Validation sanity check:   0%|          | 0/2 [00:00<?, ?it/s]"
     ]
    },
    {
     "name": "stderr",
     "output_type": "stream",
     "text": [
      "/opt/miniconda3/envs/ml4floods/lib/python3.8/site-packages/pytorch_lightning/utilities/distributed.py:50: UserWarning: The dataloader, val dataloader 0, does not have many workers which may be a bottleneck. Consider increasing the value of the `num_workers` argument` (try 24 which is the number of cpus on this machine) in the `DataLoader` init to improve performance.\n",
      "  warnings.warn(*args, **kwargs)\n"
     ]
    },
    {
     "name": "stdout",
     "output_type": "stream",
     "text": [
      "Epoch 0:  99%|█████████▉| 6147/6187 [46:53<00:18,  2.18it/s, loss=1.16, v_num=wene]\n",
      "Validating: 0it [00:00, ?it/s]\u001b[A\n",
      "Validating:   0%|          | 0/41 [00:00<?, ?it/s]\u001b[A\n",
      "Epoch 0:  99%|█████████▉| 6149/6187 [46:57<00:17,  2.18it/s, loss=1.16, v_num=wene]\n",
      "Epoch 0:  99%|█████████▉| 6151/6187 [46:59<00:16,  2.18it/s, loss=1.16, v_num=wene]\n",
      "Validating:  12%|█▏        | 5/41 [00:06<00:43,  1.20s/it]\u001b[A\n",
      "Epoch 0:  99%|█████████▉| 6153/6187 [47:01<00:15,  2.18it/s, loss=1.16, v_num=wene]\n",
      "Validating:  17%|█▋        | 7/41 [00:09<00:42,  1.26s/it]\u001b[A\n",
      "Epoch 0:  99%|█████████▉| 6155/6187 [47:04<00:14,  2.18it/s, loss=1.16, v_num=wene]\n",
      "Validating:  22%|██▏       | 9/41 [00:11<00:40,  1.28s/it]\u001b[A\n",
      "Epoch 0: 100%|█████████▉| 6157/6187 [47:06<00:13,  2.18it/s, loss=1.16, v_num=wene]\n",
      "Validating:  27%|██▋       | 11/41 [00:14<00:38,  1.29s/it]\u001b[A\n",
      "Epoch 0: 100%|█████████▉| 6159/6187 [47:09<00:12,  2.18it/s, loss=1.16, v_num=wene]"
     ]
    },
    {
     "name": "stderr",
     "output_type": "stream",
     "text": [
      "/home/gonzalo/ml4floods/src/models/utils/metrics.py:139: RuntimeWarning: divide by zero encountered in true_divide\n",
      "  recall = true_positive / (true_positive + false_negative)\n"
     ]
    },
    {
     "name": "stdout",
     "output_type": "stream",
     "text": [
      "\n",
      "Validating:  32%|███▏      | 13/41 [00:17<00:36,  1.31s/it]\u001b[A\n",
      "Epoch 0: 100%|█████████▉| 6161/6187 [47:12<00:11,  2.18it/s, loss=1.16, v_num=wene]\n",
      "Validating:  37%|███▋      | 15/41 [00:19<00:33,  1.29s/it]\u001b[A\n",
      "Epoch 0: 100%|█████████▉| 6163/6187 [47:14<00:11,  2.17it/s, loss=1.16, v_num=wene]\n",
      "Validating:  41%|████▏     | 17/41 [00:22<00:30,  1.29s/it]\u001b[A\n",
      "Epoch 0: 100%|█████████▉| 6165/6187 [47:17<00:10,  2.17it/s, loss=1.16, v_num=wene]\n",
      "Validating:  46%|████▋     | 19/41 [00:24<00:28,  1.29s/it]\u001b[A\n",
      "Epoch 0: 100%|█████████▉| 6167/6187 [47:19<00:09,  2.17it/s, loss=1.16, v_num=wene]\n",
      "Validating:  51%|█████     | 21/41 [00:27<00:25,  1.28s/it]\u001b[A\n",
      "Epoch 0: 100%|█████████▉| 6169/6187 [47:22<00:08,  2.17it/s, loss=1.16, v_num=wene]\n",
      "Validating:  56%|█████▌    | 23/41 [00:29<00:22,  1.25s/it]\u001b[A\n",
      "Epoch 0: 100%|█████████▉| 6171/6187 [47:24<00:07,  2.17it/s, loss=1.16, v_num=wene]\n",
      "Validating:  61%|██████    | 25/41 [00:32<00:20,  1.29s/it]\u001b[A\n",
      "Epoch 0: 100%|█████████▉| 6173/6187 [47:27<00:06,  2.17it/s, loss=1.16, v_num=wene]\n",
      "Validating:  66%|██████▌   | 27/41 [00:35<00:18,  1.31s/it]\u001b[A\n",
      "Epoch 0: 100%|█████████▉| 6175/6187 [47:30<00:05,  2.17it/s, loss=1.16, v_num=wene]\n",
      "Validating:  71%|███████   | 29/41 [00:37<00:15,  1.31s/it]\u001b[A\n",
      "Epoch 0: 100%|█████████▉| 6177/6187 [47:32<00:04,  2.17it/s, loss=1.16, v_num=wene]\n",
      "Validating:  76%|███████▌  | 31/41 [00:40<00:13,  1.31s/it]\u001b[A\n",
      "Epoch 0: 100%|█████████▉| 6179/6187 [47:35<00:03,  2.16it/s, loss=1.16, v_num=wene]\n",
      "Validating:  80%|████████  | 33/41 [00:42<00:10,  1.30s/it]\u001b[A\n",
      "Epoch 0: 100%|█████████▉| 6181/6187 [47:38<00:02,  2.16it/s, loss=1.16, v_num=wene]\n",
      "Validating:  85%|████████▌ | 35/41 [00:45<00:07,  1.30s/it]\u001b[A\n",
      "Epoch 0: 100%|█████████▉| 6183/6187 [47:40<00:01,  2.16it/s, loss=1.16, v_num=wene]\n",
      "Validating:  90%|█████████ | 37/41 [00:47<00:04,  1.24s/it]\u001b[A\n",
      "Epoch 0: 100%|█████████▉| 6185/6187 [47:43<00:00,  2.16it/s, loss=1.16, v_num=wene]\n",
      "Validating:  95%|█████████▌| 39/41 [00:50<00:02,  1.28s/it]\u001b[A\n",
      "Epoch 0: 100%|██████████| 6187/6187 [47:45<00:00,  2.16it/s, loss=1.16, v_num=wene]\n",
      "                                                           \u001b[A"
     ]
    },
    {
     "name": "stderr",
     "output_type": "stream",
     "text": [
      "Epoch 0, global step 6145: val_dice_loss reached 0.71664 (best 0.71664), saving model to \"gs://ml4cc_data_lake/0_DEV/2_Mart/2_MLModelMart/worldfloods-notebook-training-demo/checkpoint/epoch=0-step=6145.ckpt\" as top True\n"
     ]
    },
    {
     "name": "stdout",
     "output_type": "stream",
     "text": [
      "Epoch 1:  99%|█████████▉| 6146/6187 [46:36<00:18,  2.20it/s, loss=1.05, v_num=wene] \n",
      "Validating: 0it [00:00, ?it/s]\u001b[A\n",
      "Validating:   0%|          | 0/41 [00:00<?, ?it/s]\u001b[A\n",
      "Epoch 1:  99%|█████████▉| 6148/6187 [46:40<00:17,  2.20it/s, loss=1.05, v_num=wene]\n",
      "Epoch 1:  99%|█████████▉| 6150/6187 [46:40<00:16,  2.20it/s, loss=1.05, v_num=wene]\n",
      "Validating:  10%|▉         | 4/41 [00:05<00:42,  1.16s/it]\u001b[A\n",
      "Epoch 1:  99%|█████████▉| 6152/6187 [46:43<00:15,  2.19it/s, loss=1.05, v_num=wene]\n",
      "Validating:  15%|█▍        | 6/41 [00:07<00:43,  1.25s/it]\u001b[A\n",
      "Epoch 1:  99%|█████████▉| 6154/6187 [46:46<00:15,  2.19it/s, loss=1.05, v_num=wene]\n",
      "Validating:  20%|█▉        | 8/41 [00:10<00:42,  1.28s/it]\u001b[A\n",
      "Epoch 1:  99%|█████████▉| 6156/6187 [46:48<00:14,  2.19it/s, loss=1.05, v_num=wene]\n",
      "Validating:  24%|██▍       | 10/41 [00:13<00:40,  1.31s/it]\u001b[A\n",
      "Epoch 1: 100%|█████████▉| 6158/6187 [46:51<00:13,  2.19it/s, loss=1.05, v_num=wene]\n",
      "Validating:  29%|██▉       | 12/41 [00:15<00:38,  1.33s/it]\u001b[A\n",
      "Epoch 1: 100%|█████████▉| 6160/6187 [46:54<00:12,  2.19it/s, loss=1.05, v_num=wene]\n",
      "Validating:  34%|███▍      | 14/41 [00:18<00:35,  1.32s/it]\u001b[A\n",
      "Epoch 1: 100%|█████████▉| 6162/6187 [46:56<00:11,  2.19it/s, loss=1.05, v_num=wene]\n",
      "Validating:  39%|███▉      | 16/41 [00:21<00:32,  1.30s/it]\u001b[A\n",
      "Epoch 1: 100%|█████████▉| 6164/6187 [46:59<00:10,  2.19it/s, loss=1.05, v_num=wene]\n",
      "Validating:  44%|████▍     | 18/41 [00:23<00:29,  1.30s/it]\u001b[A\n",
      "Epoch 1: 100%|█████████▉| 6166/6187 [47:01<00:09,  2.19it/s, loss=1.05, v_num=wene]\n",
      "Validating:  49%|████▉     | 20/41 [00:26<00:27,  1.29s/it]\u001b[A\n",
      "Epoch 1: 100%|█████████▉| 6168/6187 [47:04<00:08,  2.18it/s, loss=1.05, v_num=wene]\n",
      "Validating:  54%|█████▎    | 22/41 [00:28<00:23,  1.22s/it]\u001b[A\n",
      "Epoch 1: 100%|█████████▉| 6170/6187 [47:06<00:07,  2.18it/s, loss=1.05, v_num=wene]\n",
      "Validating:  59%|█████▊    | 24/41 [00:31<00:21,  1.28s/it]\u001b[A\n",
      "Epoch 1: 100%|█████████▉| 6172/6187 [47:09<00:06,  2.18it/s, loss=1.05, v_num=wene]\n",
      "Validating:  63%|██████▎   | 26/41 [00:34<00:19,  1.31s/it]\u001b[A\n",
      "Epoch 1: 100%|█████████▉| 6174/6187 [47:12<00:05,  2.18it/s, loss=1.05, v_num=wene]\n",
      "Validating:  68%|██████▊   | 28/41 [00:36<00:17,  1.32s/it]\u001b[A\n",
      "Epoch 1: 100%|█████████▉| 6176/6187 [47:14<00:05,  2.18it/s, loss=1.05, v_num=wene]\n",
      "Validating:  73%|███████▎  | 30/41 [00:39<00:14,  1.32s/it]\u001b[A\n",
      "Epoch 1: 100%|█████████▉| 6178/6187 [47:17<00:04,  2.18it/s, loss=1.05, v_num=wene]\n",
      "Validating:  78%|███████▊  | 32/41 [00:41<00:11,  1.31s/it]\u001b[A\n",
      "Epoch 1: 100%|█████████▉| 6180/6187 [47:19<00:03,  2.18it/s, loss=1.05, v_num=wene]\n",
      "Validating:  83%|████████▎ | 34/41 [00:44<00:09,  1.30s/it]\u001b[A\n",
      "Epoch 1: 100%|█████████▉| 6182/6187 [47:22<00:02,  2.17it/s, loss=1.05, v_num=wene]\n",
      "Validating:  88%|████████▊ | 36/41 [00:47<00:06,  1.31s/it]\u001b[A\n",
      "Epoch 1: 100%|█████████▉| 6184/6187 [47:25<00:01,  2.17it/s, loss=1.05, v_num=wene]\n",
      "Validating:  93%|█████████▎| 38/41 [00:49<00:03,  1.27s/it]\u001b[A\n",
      "Epoch 1: 100%|█████████▉| 6186/6187 [47:27<00:00,  2.17it/s, loss=1.05, v_num=wene]\n",
      "Epoch 1: 100%|██████████| 6187/6187 [47:29<00:00,  2.17it/s, loss=1.05, v_num=wene]\n",
      "                                                           \u001b[A"
     ]
    },
    {
     "name": "stderr",
     "output_type": "stream",
     "text": [
      "Epoch 1, global step 12291: val_dice_loss reached 0.68838 (best 0.68838), saving model to \"gs://ml4cc_data_lake/0_DEV/2_Mart/2_MLModelMart/worldfloods-notebook-training-demo/checkpoint/epoch=1-step=12291.ckpt\" as top True\n"
     ]
    },
    {
     "name": "stdout",
     "output_type": "stream",
     "text": [
      "Epoch 2:  99%|█████████▉| 6146/6187 [47:08<00:18,  2.17it/s, loss=0.957, v_num=wene]\n",
      "Validating: 0it [00:00, ?it/s]\u001b[A\n",
      "Validating:   0%|          | 0/41 [00:00<?, ?it/s]\u001b[A\n",
      "Epoch 2:  99%|█████████▉| 6148/6187 [47:12<00:17,  2.17it/s, loss=0.957, v_num=wene]\n",
      "Epoch 2:  99%|█████████▉| 6150/6187 [47:12<00:17,  2.17it/s, loss=0.957, v_num=wene]\n",
      "Validating:  10%|▉         | 4/41 [00:05<00:44,  1.20s/it]\u001b[A\n",
      "Epoch 2:  99%|█████████▉| 6152/6187 [47:15<00:16,  2.17it/s, loss=0.957, v_num=wene]\n",
      "Validating:  15%|█▍        | 6/41 [00:08<00:45,  1.30s/it]\u001b[A\n",
      "Epoch 2:  99%|█████████▉| 6154/6187 [47:18<00:15,  2.17it/s, loss=0.957, v_num=wene]\n",
      "Validating:  20%|█▉        | 8/41 [00:10<00:43,  1.33s/it]\u001b[A\n",
      "Epoch 2:  99%|█████████▉| 6156/6187 [47:20<00:14,  2.17it/s, loss=0.957, v_num=wene]\n",
      "Validating:  24%|██▍       | 10/41 [00:13<00:41,  1.35s/it]\u001b[A\n",
      "Epoch 2: 100%|█████████▉| 6158/6187 [47:23<00:13,  2.17it/s, loss=0.957, v_num=wene]\n",
      "Validating:  29%|██▉       | 12/41 [00:16<00:40,  1.38s/it]\u001b[A\n",
      "Epoch 2: 100%|█████████▉| 6160/6187 [47:26<00:12,  2.16it/s, loss=0.957, v_num=wene]\n",
      "Validating:  34%|███▍      | 14/41 [00:19<00:37,  1.39s/it]\u001b[A\n",
      "Epoch 2: 100%|█████████▉| 6162/6187 [47:29<00:11,  2.16it/s, loss=0.957, v_num=wene]\n",
      "Validating:  39%|███▉      | 16/41 [00:22<00:34,  1.37s/it]\u001b[A\n",
      "Epoch 2: 100%|█████████▉| 6164/6187 [47:32<00:10,  2.16it/s, loss=0.957, v_num=wene]\n",
      "Validating:  44%|████▍     | 18/41 [00:24<00:31,  1.36s/it]\u001b[A\n",
      "Epoch 2: 100%|█████████▉| 6166/6187 [47:34<00:09,  2.16it/s, loss=0.957, v_num=wene]\n",
      "Validating:  49%|████▉     | 20/41 [00:27<00:28,  1.36s/it]\u001b[A\n",
      "Epoch 2: 100%|█████████▉| 6168/6187 [47:37<00:08,  2.16it/s, loss=0.957, v_num=wene]\n",
      "Validating:  54%|█████▎    | 22/41 [00:29<00:24,  1.28s/it]\u001b[A\n",
      "Epoch 2: 100%|█████████▉| 6170/6187 [47:39<00:07,  2.16it/s, loss=0.957, v_num=wene]\n",
      "Validating:  59%|█████▊    | 24/41 [00:32<00:22,  1.33s/it]\u001b[A\n",
      "Epoch 2: 100%|█████████▉| 6172/6187 [47:42<00:06,  2.16it/s, loss=0.957, v_num=wene]\n",
      "Validating:  63%|██████▎   | 26/41 [00:35<00:20,  1.36s/it]\u001b[A\n",
      "Epoch 2: 100%|█████████▉| 6174/6187 [47:45<00:06,  2.15it/s, loss=0.957, v_num=wene]\n",
      "Validating:  68%|██████▊   | 28/41 [00:38<00:17,  1.37s/it]\u001b[A\n",
      "Epoch 2: 100%|█████████▉| 6176/6187 [47:48<00:05,  2.15it/s, loss=0.957, v_num=wene]\n",
      "Validating:  73%|███████▎  | 30/41 [00:40<00:15,  1.39s/it]\u001b[A\n",
      "Epoch 2: 100%|█████████▉| 6178/6187 [47:51<00:04,  2.15it/s, loss=0.957, v_num=wene]\n",
      "Validating:  78%|███████▊  | 32/41 [00:43<00:12,  1.38s/it]\u001b[A\n",
      "Epoch 2: 100%|█████████▉| 6180/6187 [47:53<00:03,  2.15it/s, loss=0.957, v_num=wene]\n",
      "Validating:  83%|████████▎ | 34/41 [00:46<00:09,  1.39s/it]\u001b[A\n",
      "Epoch 2: 100%|█████████▉| 6182/6187 [47:56<00:02,  2.15it/s, loss=0.957, v_num=wene]\n",
      "Validating:  88%|████████▊ | 36/41 [00:49<00:06,  1.38s/it]\u001b[A\n",
      "Epoch 2: 100%|█████████▉| 6184/6187 [47:59<00:01,  2.15it/s, loss=0.957, v_num=wene]\n",
      "Validating:  93%|█████████▎| 38/41 [00:51<00:04,  1.34s/it]\u001b[A\n",
      "Epoch 2: 100%|█████████▉| 6186/6187 [48:01<00:00,  2.15it/s, loss=0.957, v_num=wene]\n",
      "Epoch 2: 100%|██████████| 6187/6187 [48:03<00:00,  2.15it/s, loss=0.957, v_num=wene]\n",
      "                                                           \u001b[A"
     ]
    },
    {
     "name": "stderr",
     "output_type": "stream",
     "text": [
      "Epoch 2, global step 18437: val_dice_loss reached 0.67237 (best 0.67237), saving model to \"gs://ml4cc_data_lake/0_DEV/2_Mart/2_MLModelMart/worldfloods-notebook-training-demo/checkpoint/epoch=2-step=18437.ckpt\" as top True\n"
     ]
    },
    {
     "name": "stdout",
     "output_type": "stream",
     "text": [
      "Epoch 3:  99%|█████████▉| 6146/6187 [48:58<00:19,  2.09it/s, loss=0.987, v_num=wene]\n",
      "Validating: 0it [00:00, ?it/s]\u001b[A\n",
      "Validating:   0%|          | 0/41 [00:00<?, ?it/s]\u001b[A\n",
      "Epoch 3:  99%|█████████▉| 6148/6187 [49:02<00:18,  2.09it/s, loss=0.987, v_num=wene]\n",
      "Epoch 3:  99%|█████████▉| 6150/6187 [49:02<00:17,  2.09it/s, loss=0.987, v_num=wene]\n",
      "Validating:  10%|▉         | 4/41 [00:05<00:43,  1.19s/it]\u001b[A\n",
      "Epoch 3:  99%|█████████▉| 6152/6187 [49:05<00:16,  2.09it/s, loss=0.987, v_num=wene]\n",
      "Validating:  15%|█▍        | 6/41 [00:08<00:45,  1.29s/it]\u001b[A\n",
      "Epoch 3:  99%|█████████▉| 6154/6187 [49:08<00:15,  2.09it/s, loss=0.987, v_num=wene]\n",
      "Validating:  20%|█▉        | 8/41 [00:10<00:43,  1.33s/it]\u001b[A\n",
      "Epoch 3:  99%|█████████▉| 6156/6187 [49:10<00:14,  2.09it/s, loss=0.987, v_num=wene]\n",
      "Validating:  24%|██▍       | 10/41 [00:13<00:41,  1.34s/it]\u001b[A\n",
      "Epoch 3: 100%|█████████▉| 6158/6187 [49:13<00:13,  2.08it/s, loss=0.987, v_num=wene]\n",
      "Validating:  29%|██▉       | 12/41 [00:16<00:39,  1.36s/it]\u001b[A\n",
      "Epoch 3: 100%|█████████▉| 6160/6187 [49:16<00:12,  2.08it/s, loss=0.987, v_num=wene]\n",
      "Validating:  34%|███▍      | 14/41 [00:19<00:37,  1.38s/it]\u001b[A\n",
      "Epoch 3: 100%|█████████▉| 6162/6187 [49:19<00:12,  2.08it/s, loss=0.987, v_num=wene]\n",
      "Validating:  39%|███▉      | 16/41 [00:21<00:33,  1.36s/it]\u001b[A\n",
      "Epoch 3: 100%|█████████▉| 6164/6187 [49:21<00:11,  2.08it/s, loss=0.987, v_num=wene]\n",
      "Validating:  44%|████▍     | 18/41 [00:24<00:31,  1.37s/it]\u001b[A\n",
      "Epoch 3: 100%|█████████▉| 6166/6187 [49:24<00:10,  2.08it/s, loss=0.987, v_num=wene]\n",
      "Validating:  49%|████▉     | 20/41 [00:27<00:28,  1.35s/it]\u001b[A\n",
      "Epoch 3: 100%|█████████▉| 6168/6187 [49:27<00:09,  2.08it/s, loss=0.987, v_num=wene]\n",
      "Validating:  54%|█████▎    | 22/41 [00:29<00:24,  1.29s/it]\u001b[A\n",
      "Epoch 3: 100%|█████████▉| 6170/6187 [49:29<00:08,  2.08it/s, loss=0.987, v_num=wene]\n",
      "Validating:  59%|█████▊    | 24/41 [00:32<00:22,  1.33s/it]\u001b[A\n",
      "Epoch 3: 100%|█████████▉| 6172/6187 [49:32<00:07,  2.08it/s, loss=0.987, v_num=wene]\n",
      "Validating:  63%|██████▎   | 26/41 [00:35<00:20,  1.35s/it]\u001b[A\n",
      "Epoch 3: 100%|█████████▉| 6174/6187 [49:35<00:06,  2.08it/s, loss=0.987, v_num=wene]\n",
      "Validating:  68%|██████▊   | 28/41 [00:38<00:17,  1.38s/it]\u001b[A\n",
      "Epoch 3: 100%|█████████▉| 6176/6187 [49:38<00:05,  2.07it/s, loss=0.987, v_num=wene]\n",
      "Validating:  73%|███████▎  | 30/41 [00:40<00:15,  1.38s/it]\u001b[A\n",
      "Epoch 3: 100%|█████████▉| 6178/6187 [49:40<00:04,  2.07it/s, loss=0.987, v_num=wene]\n",
      "Validating:  78%|███████▊  | 32/41 [00:43<00:12,  1.37s/it]\u001b[A\n",
      "Epoch 3: 100%|█████████▉| 6180/6187 [49:43<00:03,  2.07it/s, loss=0.987, v_num=wene]\n",
      "Validating:  83%|████████▎ | 34/41 [00:46<00:09,  1.37s/it]\u001b[A\n",
      "Epoch 3: 100%|█████████▉| 6182/6187 [49:46<00:02,  2.07it/s, loss=0.987, v_num=wene]\n",
      "Validating:  88%|████████▊ | 36/41 [00:49<00:06,  1.37s/it]\u001b[A\n",
      "Epoch 3: 100%|█████████▉| 6184/6187 [49:48<00:01,  2.07it/s, loss=0.987, v_num=wene]\n",
      "Validating:  93%|█████████▎| 38/41 [00:51<00:03,  1.33s/it]\u001b[A\n",
      "Epoch 3: 100%|█████████▉| 6186/6187 [49:51<00:00,  2.07it/s, loss=0.987, v_num=wene]\n",
      "Epoch 3: 100%|██████████| 6187/6187 [49:52<00:00,  2.07it/s, loss=0.987, v_num=wene]\n",
      "                                                           \u001b[A"
     ]
    },
    {
     "name": "stderr",
     "output_type": "stream",
     "text": [
      "Epoch 3, global step 24583: val_dice_loss reached 0.66332 (best 0.66332), saving model to \"gs://ml4cc_data_lake/0_DEV/2_Mart/2_MLModelMart/worldfloods-notebook-training-demo/checkpoint/epoch=3-step=24583.ckpt\" as top True\n"
     ]
    },
    {
     "name": "stdout",
     "output_type": "stream",
     "text": [
      "Epoch 3: 100%|██████████| 6187/6187 [49:54<00:00,  2.07it/s, loss=0.987, v_num=wene]\n"
     ]
    },
    {
     "data": {
      "text/plain": [
       "1"
      ]
     },
     "execution_count": 11,
     "metadata": {},
     "output_type": "execute_result"
    }
   ],
   "source": [
    "trainer.fit(model, dataset)"
   ]
  },
  {
   "cell_type": "markdown",
   "id": "plastic-seminar",
   "metadata": {},
   "source": [
    "## Step 7: Save trained model\n",
    "    - Save model to local/gcs along with configuration file used to conduct training!"
   ]
  },
  {
   "cell_type": "code",
   "execution_count": 13,
   "id": "interracial-tactics",
   "metadata": {},
   "outputs": [
    {
     "name": "stderr",
     "output_type": "stream",
     "text": [
      "\u001b[34m\u001b[1mwandb\u001b[0m: \u001b[33mWARNING\u001b[0m Saving files without folders. If you want to preserve sub directories pass base_path to wandb.save, i.e. wandb.save(\"/mnt/folder/file.h5\", base_path=\"/mnt\")\n",
      "Run pip install nbformat to save notebook history\n"
     ]
    },
    {
     "data": {
      "text/html": [
       "<br/>Waiting for W&B process to finish, PID 21640<br/>Program ended successfully."
      ],
      "text/plain": [
       "<IPython.core.display.HTML object>"
      ]
     },
     "metadata": {},
     "output_type": "display_data"
    },
    {
     "data": {
      "text/html": [
       "Find user logs for this run at: <code>/home/gonzalo/ml4floods/notebooks/models/wandb/run-20210318_151018-25j7wene/logs/debug.log</code>"
      ],
      "text/plain": [
       "<IPython.core.display.HTML object>"
      ]
     },
     "metadata": {},
     "output_type": "display_data"
    },
    {
     "data": {
      "text/html": [
       "Find internal logs for this run at: <code>/home/gonzalo/ml4floods/notebooks/models/wandb/run-20210318_151018-25j7wene/logs/debug-internal.log</code>"
      ],
      "text/plain": [
       "<IPython.core.display.HTML object>"
      ]
     },
     "metadata": {},
     "output_type": "display_data"
    },
    {
     "data": {
      "text/html": [
       "<h3>Run summary:</h3><br/><style>\n",
       "    table.wandb td:nth-child(1) { padding: 0 10px; text-align: right }\n",
       "    </style><table class=\"wandb\">\n",
       "<tr><td>_runtime</td><td>25660</td></tr><tr><td>_timestamp</td><td>1616105878</td></tr><tr><td>_step</td><td>24583</td></tr><tr><td>loss</td><td>0.87475</td></tr><tr><td>epoch</td><td>3</td></tr><tr><td>val_bce_loss</td><td>1.81653</td></tr><tr><td>val_dice_loss</td><td>0.66332</td></tr><tr><td>val_recall land</td><td>0.86352</td></tr><tr><td>val_recall water</td><td>inf</td></tr><tr><td>val_recall cloud</td><td>inf</td></tr><tr><td>val_iou land</td><td>0.78074</td></tr><tr><td>val_iou water</td><td>0.37365</td></tr><tr><td>val_iou cloud</td><td>0.20163</td></tr></table>"
      ],
      "text/plain": [
       "<IPython.core.display.HTML object>"
      ]
     },
     "metadata": {},
     "output_type": "display_data"
    },
    {
     "data": {
      "text/html": [
       "<h3>Run history:</h3><br/><style>\n",
       "    table.wandb td:nth-child(1) { padding: 0 10px; text-align: right }\n",
       "    </style><table class=\"wandb\">\n",
       "<tr><td>_runtime</td><td>▁▁▁▁▂▂▂▂▂▃▃▃▃▃▃▄▄▄▄▄▄▅▅▅▅▅▆▆▆▆▆▆▇▇▇▇▇███</td></tr><tr><td>_timestamp</td><td>▁▁▁▁▂▂▂▂▂▃▃▃▃▃▃▄▄▄▄▄▄▅▅▅▅▅▆▆▆▆▆▆▇▇▇▇▇███</td></tr><tr><td>_step</td><td>▁▁▁▁▂▂▂▂▂▃▃▃▃▃▃▄▄▄▄▄▅▅▅▅▅▅▆▆▆▆▆▆▇▇▇▇▇███</td></tr><tr><td>loss</td><td>█▇▆▆▄▄▆▅▄▃▃▅▃▂▂▃▃▃▃▄▅▇▂▂▃▃▁▄▅▂▁▂▂▂▃▆▂▂▂▂</td></tr><tr><td>epoch</td><td>▁▁▁▁▁▁▁▁▁▁▃▃▃▃▃▃▃▃▃▃▆▆▆▆▆▆▆▆▆▆██████████</td></tr><tr><td>val_bce_loss</td><td>█▄▂▁</td></tr><tr><td>val_dice_loss</td><td>█▄▂▁</td></tr><tr><td>val_recall land</td><td>▁▆██</td></tr><tr><td>val_recall water</td><td></td></tr><tr><td>val_recall cloud</td><td></td></tr><tr><td>val_iou land</td><td>▁▆██</td></tr><tr><td>val_iou water</td><td>▁▅▇█</td></tr><tr><td>val_iou cloud</td><td>▁▅▆█</td></tr></table><br/>"
      ],
      "text/plain": [
       "<IPython.core.display.HTML object>"
      ]
     },
     "metadata": {},
     "output_type": "display_data"
    },
    {
     "data": {
      "text/html": [
       "Synced 5 W&B file(s), 1728 media file(s), 0 artifact file(s) and 1 other file(s)"
      ],
      "text/plain": [
       "<IPython.core.display.HTML object>"
      ]
     },
     "metadata": {},
     "output_type": "display_data"
    },
    {
     "data": {
      "text/html": [
       "\n",
       "                    <br/>Synced <strong style=\"color:#cdcd00\">solar-morning-1</strong>: <a href=\"https://wandb.ai/ipl_uv/ml4floods-notebooks_models/runs/25j7wene\" target=\"_blank\">https://wandb.ai/ipl_uv/ml4floods-notebooks_models/runs/25j7wene</a><br/>\n",
       "                "
      ],
      "text/plain": [
       "<IPython.core.display.HTML object>"
      ]
     },
     "metadata": {},
     "output_type": "display_data"
    }
   ],
   "source": [
    "import torch\n",
    "from pytorch_lightning.utilities.cloud_io import atomic_save\n",
    "from src.models.config_setup import save_json\n",
    "\n",
    "# Save in the cloud and in the wandb logger save dir\n",
    "atomic_save(model.state_dict(), f\"{experiment_path}/model.pt\")\n",
    "torch.save(model.state_dict(), os.path.join(wandb_logger.save_dir, 'model.pt'))\n",
    "wandb.save(os.path.join(wandb_logger.save_dir, 'model.pt'))\n",
    "wandb.finish()\n",
    "\n",
    "# Save cofig file in experiment_path\n",
    "config_file_path = f\"{experiment_path}/config.json\"\n",
    "save_json(config, config_file_path)"
   ]
  },
  {
   "cell_type": "markdown",
   "id": "worst-modern",
   "metadata": {},
   "source": [
    "# All Done - Now head to the Model Inference Tutorial to see how your model performed!"
   ]
  }
 ],
 "metadata": {
  "kernelspec": {
   "display_name": "Python [conda env:ml4floods]",
   "language": "python",
   "name": "conda-env-ml4floods-py"
  },
  "language_info": {
   "codemirror_mode": {
    "name": "ipython",
    "version": 3
   },
   "file_extension": ".py",
   "mimetype": "text/x-python",
   "name": "python",
   "nbconvert_exporter": "python",
   "pygments_lexer": "ipython3",
   "version": "3.8.8"
  }
 },
 "nbformat": 4,
 "nbformat_minor": 5
}
