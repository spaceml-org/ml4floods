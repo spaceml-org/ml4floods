{
 "cells": [
  {
   "cell_type": "markdown",
   "id": "italian-ownership",
   "metadata": {},
   "source": [
    "# Notebook to load existing model weights into pytorch lightening module, and save pytorch lightening model to bucket to be used for inference later"
   ]
  },
  {
   "cell_type": "code",
   "execution_count": 2,
   "id": "cloudy-mississippi",
   "metadata": {},
   "outputs": [],
   "source": [
    "import sys, os\n",
    "from pathlib import Path\n",
    "from pyprojroot import here\n",
    "# spyder up to find the root\n",
    "root = here(project_files=[\".here\"])\n",
    "# append to path\n",
    "sys.path.append(str(here()))\n",
    "\n",
    "%load_ext autoreload\n",
    "%autoreload 2"
   ]
  },
  {
   "cell_type": "markdown",
   "id": "limiting-third",
   "metadata": {},
   "source": [
    "## Step 1: Load config"
   ]
  },
  {
   "cell_type": "code",
   "execution_count": 25,
   "id": "civil-means",
   "metadata": {
    "collapsed": true,
    "jupyter": {
     "outputs_hidden": true
    }
   },
   "outputs": [
    {
     "name": "stdout",
     "output_type": "stream",
     "text": [
      "Loaded Config for experiment:  worldfloods_demo_test\n",
      "{   'data_params': {   'bands': 'all',\n",
      "                       'batch_size': 32,\n",
      "                       'bucket_id': 'ml4floods',\n",
      "                       'image_count': 3,\n",
      "                       'input_folder': 'S2',\n",
      "                       'loader_type': 'local',\n",
      "                       'path_to_splits': 'worldfloods/public',\n",
      "                       'target_folder': 'gt',\n",
      "                       'test_transformation': {   'normalize': True,\n",
      "                                                  'num_classes': 3,\n",
      "                                                  'totensor': True,\n",
      "                                                  'use_channels': 'all'},\n",
      "                       'train_transformation': {   'normalize': True,\n",
      "                                                   'num_classes': 3,\n",
      "                                                   'totensor': True,\n",
      "                                                   'use_channels': 'all'},\n",
      "                       'window_size': [256, 256]},\n",
      "    'deploy': False,\n",
      "    'experiment_name': 'worldfloods_demo_test',\n",
      "    'gpus': '0',\n",
      "    'model_params': {   'device': 'cpu',\n",
      "                        'hyperparameters': {   'channel_configuration': 'all',\n",
      "                                               'label_names': [   'land',\n",
      "                                                                  'water',\n",
      "                                                                  'cloud'],\n",
      "                                               'lr': 0.0001,\n",
      "                                               'lr_decay': 0.5,\n",
      "                                               'lr_patience': 2,\n",
      "                                               'max_epochs': 10,\n",
      "                                               'max_tile_size': 256,\n",
      "                                               'model_type': 'linear',\n",
      "                                               'num_channels': 13,\n",
      "                                               'num_classes': 3,\n",
      "                                               'val_every': 1,\n",
      "                                               'weight_per_class': [   0.516942,\n",
      "                                                                       0.027322,\n",
      "                                                                       0.455787]},\n",
      "                        'model_folder': 'gs://',\n",
      "                        'path_to_weights': 'checkpoints/',\n",
      "                        'test': True,\n",
      "                        'train': True,\n",
      "                        'use_pretrained_weights': True},\n",
      "    'seed': 12,\n",
      "    'test': False,\n",
      "    'train': False}\n"
     ]
    }
   ],
   "source": [
    "from src.models.config_setup import get_default_config\n",
    "\n",
    "config_fp = os.path.join(root, 'src', 'models', 'configurations', 'worldfloods_template.json')\n",
    "config = get_default_config(config_fp)"
   ]
  },
  {
   "cell_type": "markdown",
   "id": "bizarre-affiliation",
   "metadata": {},
   "source": [
    "## Step 2: Load an save model (Linear)"
   ]
  },
  {
   "cell_type": "code",
   "execution_count": 27,
   "id": "stretch-lucas",
   "metadata": {},
   "outputs": [
    {
     "name": "stdout",
     "output_type": "stream",
     "text": [
      "13 3\n",
      "Using latest model: /home/sambudd/ml4floods/src/models/checkpoints/simplecnn/simplecnn_final_weights.pt\n"
     ]
    }
   ],
   "source": [
    "from src.models.model_setup import get_model\n",
    "from pytorch_lightning.utilities.cloud_io import atomic_save\n",
    "\n",
    "config.model_params.path_to_weights = os.path.join(root, 'src', 'models', 'checkpoints')\n",
    "\n",
    "model_type = 'linear'\n",
    "config.model_params.hyperparameters.model_type = model_type\n",
    "model = get_model(config.model_params)\n",
    "atomic_save(model.state_dict(), f\"gs://ml4cc_data_lake/0_DEV/2_Mart/2_MLModelMart/worldfloods-demo/{model_type}/model.pt\")"
   ]
  },
  {
   "cell_type": "markdown",
   "id": "designing-council",
   "metadata": {},
   "source": [
    "## Same for simplecnn"
   ]
  },
  {
   "cell_type": "code",
   "execution_count": 28,
   "id": "understood-consumption",
   "metadata": {},
   "outputs": [
    {
     "name": "stdout",
     "output_type": "stream",
     "text": [
      "13 3\n",
      "Using latest model: /home/sambudd/ml4floods/src/models/checkpoints/simplecnn/simplecnn_final_weights.pt\n"
     ]
    }
   ],
   "source": [
    "model_type = 'simplecnn'\n",
    "config.model_params.hyperparameters.model_type = model_type\n",
    "model = get_model(config.model_params)\n",
    "atomic_save(model.state_dict(), f\"gs://ml4cc_data_lake/0_DEV/2_Mart/2_MLModelMart/worldfloods-demo/{model_type}/model.pt\")"
   ]
  },
  {
   "cell_type": "markdown",
   "id": "warming-registration",
   "metadata": {},
   "source": [
    "## Same for unet"
   ]
  },
  {
   "cell_type": "code",
   "execution_count": 29,
   "id": "proof-contrary",
   "metadata": {},
   "outputs": [
    {
     "name": "stdout",
     "output_type": "stream",
     "text": [
      "13 3\n",
      "Using latest model: /home/sambudd/ml4floods/src/models/checkpoints/unet/unet_final_weights.pt\n"
     ]
    }
   ],
   "source": [
    "model_type = 'unet'\n",
    "config.model_params.hyperparameters.model_type = model_type\n",
    "model = get_model(config.model_params)\n",
    "atomic_save(model.state_dict(), f\"gs://ml4cc_data_lake/0_DEV/2_Mart/2_MLModelMart/worldfloods-demo/{model_type}/model.pt\")"
   ]
  }
 ],
 "metadata": {
  "kernelspec": {
   "display_name": "Python [conda env:floodbusters]",
   "language": "python",
   "name": "conda-env-floodbusters-py"
  },
  "language_info": {
   "codemirror_mode": {
    "name": "ipython",
    "version": 3
   },
   "file_extension": ".py",
   "mimetype": "text/x-python",
   "name": "python",
   "nbconvert_exporter": "python",
   "pygments_lexer": "ipython3",
   "version": "3.7.9"
  }
 },
 "nbformat": 4,
 "nbformat_minor": 5
}
