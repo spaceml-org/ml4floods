{
 "cells": [
  {
   "cell_type": "markdown",
   "id": "patent-musical",
   "metadata": {},
   "source": [
    "![image.png](data:image/png;base64,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)"
   ]
  },
  {
   "cell_type": "markdown",
   "id": "applicable-newfoundland",
   "metadata": {},
   "source": [
    "# Model Metrics\n",
    "\n",
    "This notebook shows how to compute metrics for a trained model on the *WorldFloods* test dataset. The notebook is divided in 4 steps:\n",
    "\n",
    "1. Load the config file of the experiment.\n",
    "1. Create a dataloader for the test dataset.\n",
    "1. Create the segmentation model and load their weights\n",
    "1. Run inference on all images in the dataset and compute metrics"
   ]
  },
  {
   "cell_type": "code",
   "execution_count": 1,
   "id": "nasty-lucas",
   "metadata": {},
   "outputs": [],
   "source": [
    "import sys, os\n",
    "from pathlib import Path\n",
    "from pyprojroot import here\n",
    "# spyder up to find the root\n",
    "root = here(project_files=[\".here\"])\n",
    "# append to path\n",
    "sys.path.append(str(here()))\n",
    "\n",
    "# %load_ext autoreload\n",
    "# %autoreload 2"
   ]
  },
  {
   "cell_type": "code",
   "execution_count": 2,
   "id": "subtle-technology",
   "metadata": {},
   "outputs": [],
   "source": [
    "import os\n",
    "os.environ[\"GOOGLE_APPLICATION_CREDENTIALS\"] = \"/opt/creds/ML4CC_creds.json\""
   ]
  },
  {
   "cell_type": "markdown",
   "id": "combined-chorus",
   "metadata": {},
   "source": [
    "## Step 1: Get config"
   ]
  },
  {
   "cell_type": "code",
   "execution_count": 3,
   "id": "accredited-commissioner",
   "metadata": {
    "tags": []
   },
   "outputs": [
    {
     "name": "stdout",
     "output_type": "stream",
     "text": [
      "Loaded Config for experiment:  WF2_unet\n",
      "{   'data_params': {   'batch_size': 32,\n",
      "                       'bucket_id': 'ml4cc_data_lake',\n",
      "                       'channel_configuration': 'all',\n",
      "                       'filter_windows': True,\n",
      "                       'filter_windows_version': 'v2',\n",
      "                       'input_folder': 'S2',\n",
      "                       'loader_type': 'local',\n",
      "                       'num_workers': 4,\n",
      "                       'path_to_splits': '/worldfloods/v2',\n",
      "                       'target_folder': 'gt',\n",
      "                       'train_test_split_file': '0_DEV/2_Mart/worldfloods_v2_0/train_test_split.json',\n",
      "                       'window_size': [256, 256]},\n",
      "    'deploy': False,\n",
      "    'experiment_name': 'WF2_unet',\n",
      "    'gpus': '0',\n",
      "    'model_params': {   'hyperparameters': {   'channel_configuration': 'all',\n",
      "                                               'label_names': [   [   'invalid',\n",
      "                                                                      'clear',\n",
      "                                                                      'cloud'],\n",
      "                                                                  [   'invalid',\n",
      "                                                                      'land',\n",
      "                                                                      'water']],\n",
      "                                               'lr': 0.0001,\n",
      "                                               'lr_decay': 0.5,\n",
      "                                               'lr_patience': 2,\n",
      "                                               'max_epochs': 40,\n",
      "                                               'max_tile_size': 256,\n",
      "                                               'metric_monitor': 'val_bce_land_water',\n",
      "                                               'model_type': 'unet',\n",
      "                                               'num_channels': 13,\n",
      "                                               'num_classes': 2,\n",
      "                                               'pos_weight': [1.0, 20.0],\n",
      "                                               'val_every': 1,\n",
      "                                               'weight_problem': [0.2, 0.8]},\n",
      "                        'model_folder': 'gs://ml4cc_data_lake/0_DEV/2_Mart/2_MLModelMart',\n",
      "                        'model_version': 'v2',\n",
      "                        'test': False,\n",
      "                        'train': True},\n",
      "    'resume_from_checkpoint': False,\n",
      "    'seed': 12,\n",
      "    'test': False,\n",
      "    'train': False,\n",
      "    'wandb_entity': 'ml4floods',\n",
      "    'wandb_project': 'worldfloodsv2'}\n"
     ]
    }
   ],
   "source": [
    "from src.models.config_setup import get_default_config\n",
    "from imp import reload\n",
    "\n",
    "experiment_name = \"WFV1_unet\"\n",
    "checkpoint_name = \"epoch=24-step=153649.ckpt\"\n",
    "\n",
    "experiment_name = \"WFV1_scnn20\"\n",
    "checkpoint_name = \"epoch=5-step=24581.ckpt\"\n",
    "\n",
    "# V2 models\n",
    "experiment_name = \"WF2_unet\"\n",
    "checkpoint_name = \"epoch=5-step=24215.ckpt\"\n",
    "\n",
    "config_fp = f\"gs://ml4cc_data_lake/0_DEV/2_Mart/2_MLModelMart/{experiment_name}/config.json\"\n",
    "# config_fp = os.path.join(root, 'src', 'models', 'configurations', 'worldfloods_template.json')\n",
    "config = get_default_config(config_fp)\n",
    "config[\"model_params\"][\"max_tile_size\"] = 1024"
   ]
  },
  {
   "cell_type": "markdown",
   "id": "fitting-october",
   "metadata": {},
   "source": [
    "## Step 2: Load dataloader"
   ]
  },
  {
   "cell_type": "code",
   "execution_count": 8,
   "id": "varied-arctic",
   "metadata": {},
   "outputs": [],
   "source": [
    "from src.models import dataset_setup\n",
    "\n",
    "# Configure the dataset to load directly from the Google bucket\n",
    "config[\"data_params\"][\"loader_type\"] = \"local\"\n",
    "config[\"data_params\"][\"path_to_splits\"] = \"/worldfloods/public/\"\n",
    "\n",
    "if \"filter_windows\" in config[\"data_params\"]:\n",
    "    del config[\"data_params\"][\"filter_windows\"] \n",
    "\n",
    "# train_transform, test_transform = dataset_setup.get_transformations(config[\"data_params\"])"
   ]
  },
  {
   "cell_type": "code",
   "execution_count": 9,
   "id": "separated-armor",
   "metadata": {
    "tags": []
   },
   "outputs": [
    {
     "name": "stdout",
     "output_type": "stream",
     "text": [
      "Using local dataset for this run\n",
      "train 196648  tiles\n",
      "val 1284  tiles\n",
      "test 11  tiles\n"
     ]
    }
   ],
   "source": [
    "data_module = dataset_setup.get_dataset(config[\"data_params\"])"
   ]
  },
  {
   "cell_type": "code",
   "execution_count": 10,
   "id": "established-canon",
   "metadata": {},
   "outputs": [],
   "source": [
    "dl = data_module.test_dataloader()\n",
    "# dl = data_module.val_dataloader()"
   ]
  },
  {
   "cell_type": "markdown",
   "id": "subtle-momentum",
   "metadata": {},
   "source": [
    "## Step 3: Load a trained model"
   ]
  },
  {
   "cell_type": "code",
   "execution_count": 11,
   "id": "suited-surfing",
   "metadata": {},
   "outputs": [
    {
     "data": {
      "text/plain": [
       "WorldFloodsModel(\n",
       "  (network): UNet(\n",
       "    (dconv_down1): Sequential(\n",
       "      (0): Conv2d(13, 64, kernel_size=(3, 3), stride=(1, 1), padding=(1, 1))\n",
       "      (1): ReLU(inplace=True)\n",
       "      (2): Conv2d(64, 64, kernel_size=(3, 3), stride=(1, 1), padding=(1, 1))\n",
       "      (3): ReLU(inplace=True)\n",
       "    )\n",
       "    (dconv_down2): Sequential(\n",
       "      (0): Conv2d(64, 128, kernel_size=(3, 3), stride=(1, 1), padding=(1, 1))\n",
       "      (1): ReLU(inplace=True)\n",
       "      (2): Conv2d(128, 128, kernel_size=(3, 3), stride=(1, 1), padding=(1, 1))\n",
       "      (3): ReLU(inplace=True)\n",
       "    )\n",
       "    (dconv_down3): Sequential(\n",
       "      (0): Conv2d(128, 256, kernel_size=(3, 3), stride=(1, 1), padding=(1, 1))\n",
       "      (1): ReLU(inplace=True)\n",
       "      (2): Conv2d(256, 256, kernel_size=(3, 3), stride=(1, 1), padding=(1, 1))\n",
       "      (3): ReLU(inplace=True)\n",
       "    )\n",
       "    (dconv_down4): Sequential(\n",
       "      (0): Conv2d(256, 512, kernel_size=(3, 3), stride=(1, 1), padding=(1, 1))\n",
       "      (1): ReLU(inplace=True)\n",
       "      (2): Conv2d(512, 512, kernel_size=(3, 3), stride=(1, 1), padding=(1, 1))\n",
       "      (3): ReLU(inplace=True)\n",
       "    )\n",
       "    (maxpool): MaxPool2d(kernel_size=2, stride=2, padding=0, dilation=1, ceil_mode=False)\n",
       "    (dconv_up3): Sequential(\n",
       "      (0): Conv2d(768, 256, kernel_size=(3, 3), stride=(1, 1), padding=(1, 1))\n",
       "      (1): ReLU(inplace=True)\n",
       "      (2): Conv2d(256, 256, kernel_size=(3, 3), stride=(1, 1), padding=(1, 1))\n",
       "      (3): ReLU(inplace=True)\n",
       "    )\n",
       "    (dconv_up2): Sequential(\n",
       "      (0): Conv2d(384, 128, kernel_size=(3, 3), stride=(1, 1), padding=(1, 1))\n",
       "      (1): ReLU(inplace=True)\n",
       "      (2): Conv2d(128, 128, kernel_size=(3, 3), stride=(1, 1), padding=(1, 1))\n",
       "      (3): ReLU(inplace=True)\n",
       "    )\n",
       "    (dconv_up1): Sequential(\n",
       "      (0): Conv2d(192, 64, kernel_size=(3, 3), stride=(1, 1), padding=(1, 1))\n",
       "      (1): ReLU(inplace=True)\n",
       "      (2): Conv2d(64, 64, kernel_size=(3, 3), stride=(1, 1), padding=(1, 1))\n",
       "      (3): ReLU(inplace=True)\n",
       "    )\n",
       "    (conv_last): Conv2d(64, 2, kernel_size=(1, 1), stride=(1, 1))\n",
       "  )\n",
       ")"
      ]
     },
     "execution_count": 11,
     "metadata": {},
     "output_type": "execute_result"
    }
   ],
   "source": [
    "from src.models.worldfloods_model import WorldFloodsModel\n",
    "\n",
    "checkpoint_path = f\"gs://ml4cc_data_lake/0_DEV/2_Mart/2_MLModelMart/{experiment_name}/checkpoint/{checkpoint_name}\"\n",
    "model = WorldFloodsModel.load_from_checkpoint(checkpoint_path)\n",
    "\n",
    "model.to(\"cuda:1\")"
   ]
  },
  {
   "cell_type": "markdown",
   "id": "innocent-lithuania",
   "metadata": {},
   "source": [
    "## Step 4: Run inference on all the images in the test dataset"
   ]
  },
  {
   "cell_type": "code",
   "execution_count": 22,
   "id": "consolidated-brief",
   "metadata": {},
   "outputs": [
    {
     "name": "stdout",
     "output_type": "stream",
     "text": [
      "Getting model inference function\n",
      "Max tile size: 256\n",
      "v2 inference function converted to v1\n"
     ]
    }
   ],
   "source": [
    "from src.models.model_setup import get_model_inference_function\n",
    "inf_func = get_model_inference_function(model, config, apply_normalization=False, \n",
    "                                        activation=\"sigmoid\")\n",
    "\n",
    "if config[\"model_params\"].get(\"model_version\",\"v1\") == \"v2\":\n",
    "    print(\"v2 inference function converted to v1\")\n",
    "    def inference_function(x):\n",
    "        dual_head_output = inf_func(x)\n",
    "        B, C, H, W = dual_head_output.shape\n",
    "        out = torch.zeros((B, 3, H, W),dtype=dual_head_output.dtype)\n",
    "        out[:, 2] = dual_head_output[:, 0]\n",
    "        out[:, 1] = (1 - dual_head_output[:, 0]) * dual_head_output[:, 1]\n",
    "        out[:, 0] = (1 - dual_head_output[:, 0]) * (1 - dual_head_output[:, 1])\n",
    "        return out\n",
    "else:\n",
    "    inference_function = inf_func"
   ]
  },
  {
   "cell_type": "code",
   "execution_count": 19,
   "id": "simple-uganda",
   "metadata": {},
   "outputs": [
    {
     "data": {
      "image/png": "[encoded data removed]",
      "text/plain": [
       "<Figure size 720x720 with 2 Axes>"
      ]
     },
     "metadata": {},
     "output_type": "display_data"
    },
    {
     "data": {
      "image/png": "[encoded data removed]",
      "text/plain": [
       "<Figure size 1152x648 with 2 Axes>"
      ]
     },
     "metadata": {},
     "output_type": "display_data"
    },
    {
     "name": "stdout",
     "output_type": "stream",
     "text": [
      "Per Class IOU {\n",
      "    \"cloud\": 0.8949078482006331,\n",
      "    \"land\": 0.8593838250686562,\n",
      "    \"water\": 0.7188967223213759\n",
      "}\n"
     ]
    }
   ],
   "source": [
    "import torch\n",
    "import numpy as np\n",
    "import pandas as pd\n",
    "from src.models.utils import metrics\n",
    "\n",
    "# Otherwise fails when reading test dataset from remote bucket\n",
    "# torch.set_num_threads(1)\n",
    "\n",
    "thresholds_water = [0,1e-3,1e-2]+np.arange(0.5,.96,.05).tolist() + [.99,.995,.999]\n",
    "\n",
    "mets = metrics.compute_metrics(\n",
    "    dl,\n",
    "    inference_function, \n",
    "    3, \n",
    "    label_names=[\"land\", \"water\", \"cloud\"], \n",
    "    thresholds_water=thresholds_water, \n",
    "    plot=False)\n",
    "\n",
    "metrics.plot_metrics(mets, [\"land\", \"water\", \"cloud\"])"
   ]
  },
  {
   "cell_type": "markdown",
   "id": "clinical-scope",
   "metadata": {},
   "source": [
    "## Bonus: Compute the metrics for each flood in the test dataset"
   ]
  },
  {
   "cell_type": "code",
   "execution_count": 21,
   "id": "proper-victorian",
   "metadata": {},
   "outputs": [
    {
     "name": "stdout",
     "output_type": "stream",
     "text": [
      "Mean values across flood events: {'Recall_land': 87.33348143096593, 'Recall_water': 92.80309761984151, 'Recall_cloud': 97.00868075669163, 'IoU_land': 85.90695790063388, 'IoU_water': 68.84751663384898, 'IoU_cloud': 50.70366994085482}\n"
     ]
    },
    {
     "data": {
      "text/html": [
       "<div>\n",
       "<style scoped>\n",
       "    .dataframe tbody tr th:only-of-type {\n",
       "        vertical-align: middle;\n",
       "    }\n",
       "\n",
       "    .dataframe tbody tr th {\n",
       "        vertical-align: top;\n",
       "    }\n",
       "\n",
       "    .dataframe thead th {\n",
       "        text-align: right;\n",
       "    }\n",
       "</style>\n",
       "<table border=\"1\" class=\"dataframe\">\n",
       "  <thead>\n",
       "    <tr style=\"text-align: right;\">\n",
       "      <th></th>\n",
       "      <th>Recall_land</th>\n",
       "      <th>Recall_water</th>\n",
       "      <th>Recall_cloud</th>\n",
       "      <th>IoU_land</th>\n",
       "      <th>IoU_water</th>\n",
       "      <th>IoU_cloud</th>\n",
       "    </tr>\n",
       "    <tr>\n",
       "      <th>code</th>\n",
       "      <th></th>\n",
       "      <th></th>\n",
       "      <th></th>\n",
       "      <th></th>\n",
       "      <th></th>\n",
       "      <th></th>\n",
       "    </tr>\n",
       "  </thead>\n",
       "  <tbody>\n",
       "    <tr>\n",
       "      <th>EMSR286 (Colombia)</th>\n",
       "      <td>95.278837</td>\n",
       "      <td>97.950186</td>\n",
       "      <td>97.881875</td>\n",
       "      <td>92.935383</td>\n",
       "      <td>81.105355</td>\n",
       "      <td>95.274041</td>\n",
       "    </tr>\n",
       "    <tr>\n",
       "      <th>EMSR333 (Italy)</th>\n",
       "      <td>89.717028</td>\n",
       "      <td>85.678468</td>\n",
       "      <td>99.150147</td>\n",
       "      <td>88.865142</td>\n",
       "      <td>41.850684</td>\n",
       "      <td>80.932915</td>\n",
       "    </tr>\n",
       "    <tr>\n",
       "      <th>EMSR342 (Australia)</th>\n",
       "      <td>65.205263</td>\n",
       "      <td>97.213228</td>\n",
       "      <td>94.876355</td>\n",
       "      <td>63.899950</td>\n",
       "      <td>71.252366</td>\n",
       "      <td>89.212278</td>\n",
       "    </tr>\n",
       "    <tr>\n",
       "      <th>EMSR347 (Malawi)</th>\n",
       "      <td>98.461447</td>\n",
       "      <td>85.206101</td>\n",
       "      <td>93.135027</td>\n",
       "      <td>96.447449</td>\n",
       "      <td>77.177906</td>\n",
       "      <td>88.099116</td>\n",
       "    </tr>\n",
       "    <tr>\n",
       "      <th>EMSR284 (Finland)</th>\n",
       "      <td>88.004831</td>\n",
       "      <td>97.967505</td>\n",
       "      <td>100.000000</td>\n",
       "      <td>87.386865</td>\n",
       "      <td>72.851272</td>\n",
       "      <td>-100.000000</td>\n",
       "    </tr>\n",
       "  </tbody>\n",
       "</table>\n",
       "</div>"
      ],
      "text/plain": [
       "                     Recall_land  Recall_water  Recall_cloud   IoU_land  \\\n",
       "code                                                                      \n",
       "EMSR286 (Colombia)     95.278837     97.950186     97.881875  92.935383   \n",
       "EMSR333 (Italy)        89.717028     85.678468     99.150147  88.865142   \n",
       "EMSR342 (Australia)    65.205263     97.213228     94.876355  63.899950   \n",
       "EMSR347 (Malawi)       98.461447     85.206101     93.135027  96.447449   \n",
       "EMSR284 (Finland)      88.004831     97.967505    100.000000  87.386865   \n",
       "\n",
       "                     IoU_water   IoU_cloud  \n",
       "code                                        \n",
       "EMSR286 (Colombia)   81.105355   95.274041  \n",
       "EMSR333 (Italy)      41.850684   80.932915  \n",
       "EMSR342 (Australia)  71.252366   89.212278  \n",
       "EMSR347 (Malawi)     77.177906   88.099116  \n",
       "EMSR284 (Finland)    72.851272 -100.000000  "
      ]
     },
     "execution_count": 21,
     "metadata": {},
     "output_type": "execute_result"
    }
   ],
   "source": [
    "CODES_LOC = {\"EMSR333\": \"EMSR333 (Italy)\",\n",
    "             \"EMSR9284\": \"EMSR284 (Finland)\",\n",
    "             \"EMSR347\": \"EMSR347 (Malawi)\",\n",
    "             \"EMSR286\": \"EMSR286 (Colombia)\",\n",
    "             \"EMSR342\": \"EMSR342 (Australia)\"\n",
    "            }\n",
    "\n",
    "if hasattr(dl.dataset, \"image_files\"):\n",
    "    cems_code = [os.path.basename(f).split(\"_\")[0] for f in dl.dataset.image_files]\n",
    "else:\n",
    "    cems_code = [os.path.basename(f.file_name).split(\"_\")[0] for f in dl.dataset.list_of_windows]\n",
    "\n",
    "iou_per_code = pd.DataFrame(metrics.group_confusion(mets[\"confusions\"],cems_code, metrics.calculate_iou,\n",
    "                                                    label_names=[f\"IoU_{l}\"for l in [\"land\", \"water\", \"cloud\"]]))\n",
    "\n",
    "recall_per_code = pd.DataFrame(metrics.group_confusion(mets[\"confusions\"],cems_code, metrics.calculate_recall,\n",
    "                                                       label_names=[f\"Recall_{l}\"for l in [\"land\", \"water\", \"cloud\"]]))\n",
    "\n",
    "join_data_per_code = pd.merge(recall_per_code,iou_per_code,on=\"code\")\n",
    "join_data_per_code[\"code\"] = join_data_per_code[\"code\"].apply(lambda x: CODES_LOC.get(x,x))\n",
    "join_data_per_code = join_data_per_code.set_index(\"code\")\n",
    "join_data_per_code = join_data_per_code*100\n",
    "print(f\"Mean values across flood events: {join_data_per_code.mean(axis=0).to_dict()}\")\n",
    "join_data_per_code"
   ]
  }
 ],
 "metadata": {
  "kernelspec": {
   "display_name": "Python [conda env:ml4floods]",
   "language": "python",
   "name": "conda-env-ml4floods-py"
  },
  "language_info": {
   "codemirror_mode": {
    "name": "ipython",
    "version": 3
   },
   "file_extension": ".py",
   "mimetype": "text/x-python",
   "name": "python",
   "nbconvert_exporter": "python",
   "pygments_lexer": "ipython3",
   "version": "3.8.8"
  }
 },
 "nbformat": 4,
 "nbformat_minor": 5
}
