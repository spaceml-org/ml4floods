{
 "cells": [
  {
   "cell_type": "markdown",
   "id": "opened-expert",
   "metadata": {},
   "source": [
    "# Model Metrics\n",
    "\n",
    "* **Last Modified**: 07-04-2021\n",
    "* **Authors**: Sam Budd, Gonzalo Mateo-García\n",
    "---\n",
    "\n",
    "This notebook shows how to compute metrics for a trained model on the *WorldFloods* test dataset. The notebook is divided in 4 steps:\n",
    "\n",
    "1. Load the config file of the experiment.\n",
    "1. Create a dataloader for the test dataset.\n",
    "1. Create the segmentation model and load their weights\n",
    "1. Run inference on all images in the dataset and compute metrics"
   ]
  },
  {
   "cell_type": "code",
   "execution_count": null,
   "id": "fitted-differential",
   "metadata": {
    "tags": [
     "remove-cell"
    ]
   },
   "outputs": [],
   "source": [
    "# !pip install git+https://github.com/spaceml-org/ml4floods#egg=ml4floods"
   ]
  },
  {
   "cell_type": "code",
   "execution_count": 1,
   "id": "parental-freedom",
   "metadata": {},
   "outputs": [],
   "source": [
    "import sys, os\n",
    "from pathlib import Path\n",
    "\n",
    "# %load_ext autoreload\n",
    "# %autoreload 2"
   ]
  },
  {
   "cell_type": "markdown",
   "id": "brazilian-chick",
   "metadata": {},
   "source": [
    "## Step 1: Get config"
   ]
  },
  {
   "cell_type": "code",
   "execution_count": 2,
   "id": "abstract-tracy",
   "metadata": {
    "tags": []
   },
   "outputs": [
    {
     "name": "stdout",
     "output_type": "stream",
     "text": [
      "Loaded Config for experiment:  WFV1_unet\n",
      "{   'data_params': {   'batch_size': 32,\n",
      "                       'bucket_id': 'ml4floods',\n",
      "                       'channel_configuration': 'all',\n",
      "                       'filter_windows': False,\n",
      "                       'input_folder': 'S2',\n",
      "                       'loader_type': 'local',\n",
      "                       'num_workers': 8,\n",
      "                       'path_to_splits': '/worldfloods/public',\n",
      "                       'target_folder': 'gt',\n",
      "                       'test_transformation': {   'normalize': True,\n",
      "                                                  'num_classes': 3,\n",
      "                                                  'totensor': True},\n",
      "                       'train_test_split_file': 'worldfloods/public/train_test_split.json',\n",
      "                       'train_transformation': {   'normalize': True,\n",
      "                                                   'num_classes': 3,\n",
      "                                                   'totensor': True},\n",
      "                       'window_size': [256, 256]},\n",
      "    'deploy': False,\n",
      "    'experiment_name': 'WFV1_unet',\n",
      "    'gpus': '0',\n",
      "    'model_params': {   'hyperparameters': {   'channel_configuration': 'all',\n",
      "                                               'label_names': [   'land',\n",
      "                                                                  'water',\n",
      "                                                                  'cloud'],\n",
      "                                               'lr': 0.0001,\n",
      "                                               'lr_decay': 0.5,\n",
      "                                               'lr_patience': 2,\n",
      "                                               'max_epochs': 25,\n",
      "                                               'max_tile_size': 256,\n",
      "                                               'model_type': 'unet',\n",
      "                                               'num_channels': 13,\n",
      "                                               'num_classes': 3,\n",
      "                                               'val_every': 1,\n",
      "                                               'weight_per_class': [   1.93445299,\n",
      "                                                                       36.60054169,\n",
      "                                                                       2.19400729]},\n",
      "                        'model_folder': 'gs://ml4cc_data_lake/0_DEV/2_Mart/2_MLModelMart',\n",
      "                        'path_to_weights': 'checkpoints/',\n",
      "                        'test': False,\n",
      "                        'train': True,\n",
      "                        'use_pretrained_weights': False},\n",
      "    'resume_from_checkpoint': False,\n",
      "    'seed': 12,\n",
      "    'test': False,\n",
      "    'train': False,\n",
      "    'wandb_entity': 'ml4floods',\n",
      "    'wandb_project': 'worldfloods'}\n"
     ]
    }
   ],
   "source": [
    "from ml4floods.models.config_setup import get_default_config\n",
    "from imp import reload\n",
    "\n",
    "experiment_name = \"WFV1_unet\"\n",
    "# checkpoint_name = \"epoch=24-step=153649.ckpt\"\n",
    "\n",
    "# experiment_name = \"WFV1_scnn20\"\n",
    "# checkpoint_name = \"epoch=5-step=24581.ckpt\"\n",
    "\n",
    "# V2 models\n",
    "# experiment_name = \"WF2_unet\"\n",
    "# checkpoint_name = \"epoch=5-step=24215.ckpt\"\n",
    "\n",
    "config_fp = f\"gs://ml4cc_data_lake/2_PROD/2_Mart/2_MLModelMart/{experiment_name}/config.json\"\n",
    "# config_fp = os.path.join(root, 'src', 'models', 'configurations', 'worldfloods_template.json')\n",
    "config = get_default_config(config_fp)\n",
    "config[\"model_params\"][\"max_tile_size\"] = 1024"
   ]
  },
  {
   "cell_type": "markdown",
   "id": "casual-desktop",
   "metadata": {},
   "source": [
    "## Step 2: Load dataloader"
   ]
  },
  {
   "cell_type": "code",
   "execution_count": 5,
   "id": "neutral-dining",
   "metadata": {},
   "outputs": [],
   "source": [
    "from ml4floods.models import dataset_setup\n",
    "\n",
    "config.data_params.loader_type = 'local'\n",
    "config.data_params.path_to_splits = \"/worldfloods/v1\" # local folder to download the data\n",
    "config.data_params.bucket_id = \"ml4cc_data_lake\" \n",
    "config.data_params.train_test_split_file = \"2_PROD/2_Mart/worldfloods_v1_0/train_test_split.json\" \n",
    "\n",
    "config.data_params[\"download\"] = {\"train\": False, \"val\": False, \"test\": True} # download only test data\n",
    "\n",
    "if \"filter_windows\" in config[\"data_params\"]:\n",
    "    del config[\"data_params\"][\"filter_windows\"]\n"
   ]
  },
  {
   "cell_type": "code",
   "execution_count": 6,
   "id": "experienced-hammer",
   "metadata": {
    "tags": []
   },
   "outputs": [
    {
     "name": "stdout",
     "output_type": "stream",
     "text": [
      "Using local dataset for this run\n",
      "Skip download train\n",
      "Downloading /worldfloods/v1/test/S2 if needed\n",
      "Downloading /worldfloods/v1/test/gt if needed\n",
      "Skip download val\n",
      "train 2424  tiles\n",
      "val 1284  tiles\n",
      "test 11  tiles\n"
     ]
    }
   ],
   "source": [
    "data_module = dataset_setup.get_dataset(config[\"data_params\"])"
   ]
  },
  {
   "cell_type": "code",
   "execution_count": 7,
   "id": "heavy-supply",
   "metadata": {},
   "outputs": [],
   "source": [
    "dl = data_module.test_dataloader()\n",
    "# dl = data_module.val_dataloader()"
   ]
  },
  {
   "cell_type": "markdown",
   "id": "negative-event",
   "metadata": {},
   "source": [
    "## Step 3: Load a trained model"
   ]
  },
  {
   "cell_type": "code",
   "execution_count": 8,
   "id": "adult-applicant",
   "metadata": {},
   "outputs": [
    {
     "name": "stdout",
     "output_type": "stream",
     "text": [
      "Loaded model weights: gs://ml4cc_data_lake/2_PROD/2_Mart/2_MLModelMart/WFV1_unet/model.pt\n"
     ]
    },
    {
     "data": {
      "text/plain": [
       "WorldFloodsModel(\n",
       "  (network): UNet(\n",
       "    (dconv_down1): Sequential(\n",
       "      (0): Conv2d(13, 64, kernel_size=(3, 3), stride=(1, 1), padding=(1, 1))\n",
       "      (1): ReLU(inplace=True)\n",
       "      (2): Conv2d(64, 64, kernel_size=(3, 3), stride=(1, 1), padding=(1, 1))\n",
       "      (3): ReLU(inplace=True)\n",
       "    )\n",
       "    (dconv_down2): Sequential(\n",
       "      (0): Conv2d(64, 128, kernel_size=(3, 3), stride=(1, 1), padding=(1, 1))\n",
       "      (1): ReLU(inplace=True)\n",
       "      (2): Conv2d(128, 128, kernel_size=(3, 3), stride=(1, 1), padding=(1, 1))\n",
       "      (3): ReLU(inplace=True)\n",
       "    )\n",
       "    (dconv_down3): Sequential(\n",
       "      (0): Conv2d(128, 256, kernel_size=(3, 3), stride=(1, 1), padding=(1, 1))\n",
       "      (1): ReLU(inplace=True)\n",
       "      (2): Conv2d(256, 256, kernel_size=(3, 3), stride=(1, 1), padding=(1, 1))\n",
       "      (3): ReLU(inplace=True)\n",
       "    )\n",
       "    (dconv_down4): Sequential(\n",
       "      (0): Conv2d(256, 512, kernel_size=(3, 3), stride=(1, 1), padding=(1, 1))\n",
       "      (1): ReLU(inplace=True)\n",
       "      (2): Conv2d(512, 512, kernel_size=(3, 3), stride=(1, 1), padding=(1, 1))\n",
       "      (3): ReLU(inplace=True)\n",
       "    )\n",
       "    (maxpool): MaxPool2d(kernel_size=2, stride=2, padding=0, dilation=1, ceil_mode=False)\n",
       "    (dconv_up3): Sequential(\n",
       "      (0): Conv2d(768, 256, kernel_size=(3, 3), stride=(1, 1), padding=(1, 1))\n",
       "      (1): ReLU(inplace=True)\n",
       "      (2): Conv2d(256, 256, kernel_size=(3, 3), stride=(1, 1), padding=(1, 1))\n",
       "      (3): ReLU(inplace=True)\n",
       "    )\n",
       "    (dconv_up2): Sequential(\n",
       "      (0): Conv2d(384, 128, kernel_size=(3, 3), stride=(1, 1), padding=(1, 1))\n",
       "      (1): ReLU(inplace=True)\n",
       "      (2): Conv2d(128, 128, kernel_size=(3, 3), stride=(1, 1), padding=(1, 1))\n",
       "      (3): ReLU(inplace=True)\n",
       "    )\n",
       "    (dconv_up1): Sequential(\n",
       "      (0): Conv2d(192, 64, kernel_size=(3, 3), stride=(1, 1), padding=(1, 1))\n",
       "      (1): ReLU(inplace=True)\n",
       "      (2): Conv2d(64, 64, kernel_size=(3, 3), stride=(1, 1), padding=(1, 1))\n",
       "      (3): ReLU(inplace=True)\n",
       "    )\n",
       "    (conv_last): Conv2d(64, 3, kernel_size=(1, 1), stride=(1, 1))\n",
       "  )\n",
       ")"
      ]
     },
     "execution_count": 8,
     "metadata": {},
     "output_type": "execute_result"
    }
   ],
   "source": [
    "from ml4floods.models.model_setup import get_model\n",
    "\n",
    "config[\"model_params\"]['model_folder'] = 'gs://ml4cc_data_lake/2_PROD/2_Mart/2_MLModelMart'\n",
    "config[\"model_params\"]['test'] = True\n",
    "model = get_model(config.model_params, experiment_name)\n",
    "\n",
    "model.eval()\n",
    "# model.to(\"cpu\")"
   ]
  },
  {
   "cell_type": "markdown",
   "id": "macro-literature",
   "metadata": {},
   "source": [
    "## Step 4: Run inference on all the images in the test dataset"
   ]
  },
  {
   "cell_type": "code",
   "execution_count": 14,
   "id": "registered-dynamics",
   "metadata": {},
   "outputs": [
    {
     "name": "stdout",
     "output_type": "stream",
     "text": [
      "Getting model inference function\n",
      "Max tile size: 1024\n"
     ]
    }
   ],
   "source": [
    "from ml4floods.models.model_setup import get_model_inference_function\n",
    "\n",
    "if config[\"model_params\"].get(\"model_version\",\"v1\") == \"v2\":\n",
    "    inf_func = get_model_inference_function(model, config, apply_normalization=False, \n",
    "                                        activation=\"sigmoid\")\n",
    "    print(\"v2 inference function converted to v1\")\n",
    "    def inference_function(x):\n",
    "        dual_head_output = inf_func(x)\n",
    "        B, C, H, W = dual_head_output.shape\n",
    "        out = torch.zeros((B, 3, H, W),dtype=dual_head_output.dtype)\n",
    "        out[:, 2] = dual_head_output[:, 0]\n",
    "        out[:, 1] = (1 - dual_head_output[:, 0]) * dual_head_output[:, 1]\n",
    "        out[:, 0] = (1 - dual_head_output[:, 0]) * (1 - dual_head_output[:, 1])\n",
    "        return out\n",
    "else:\n",
    "    inf_func = get_model_inference_function(model, config, apply_normalization=False, \n",
    "                                            activation=\"softmax\")\n",
    "    def inference_function(x):\n",
    "        return inf_func(x)[:, 1:2]\n",
    "    "
   ]
  },
  {
   "cell_type": "code",
   "execution_count": 15,
   "id": "rising-statement",
   "metadata": {},
   "outputs": [
    {
     "name": "stderr",
     "output_type": "stream",
     "text": [
      "100%|██████████| 11/11 [26:48<00:00, 146.25s/it]\n"
     ]
    },
    {
     "data": {
      "image/png": "[encoded data removed]",
      "text/plain": [
       "<Figure size 720x720 with 2 Axes>"
      ]
     },
     "metadata": {
      "needs_background": "light"
     },
     "output_type": "display_data"
    },
    {
     "data": {
      "image/png": "[encoded data removed]",
      "text/plain": [
       "<Figure size 1152x648 with 2 Axes>"
      ]
     },
     "metadata": {
      "needs_background": "light"
     },
     "output_type": "display_data"
    },
    {
     "name": "stdout",
     "output_type": "stream",
     "text": [
      "Per Class IOU {\n",
      "    \"land\": 0.886985629962456,\n",
      "    \"water\": 0.7473138706629214\n",
      "}\n",
      "CPU times: user 1h 12min 21s, sys: 14min 59s, total: 1h 27min 20s\n",
      "Wall time: 26min 49s\n"
     ]
    }
   ],
   "source": [
    "%%time\n",
    "\n",
    "import torch\n",
    "import numpy as np\n",
    "import pandas as pd\n",
    "from ml4floods.models.utils import metrics\n",
    "\n",
    "# Otherwise fails when reading test dataset from remote bucket\n",
    "# torch.set_num_threads(1)\n",
    "\n",
    "thresholds_water = [0,1e-3,1e-2]+np.arange(0.5,.96,.05).tolist() + [.99,.995,.999]\n",
    "\n",
    "mets = metrics.compute_metrics(\n",
    "    dl,\n",
    "    inference_function, \n",
    "    thresholds_water=thresholds_water, \n",
    "    mask_clouds=True,\n",
    "    plot=False)\n",
    "\n",
    "label_names = [\"land\", \"water\"]\n",
    "metrics.plot_metrics(mets, label_names)"
   ]
  },
  {
   "cell_type": "code",
   "execution_count": 21,
   "id": "joined-horizon",
   "metadata": {},
   "outputs": [],
   "source": [
    "import json\n",
    "from ml4floods.data.utils import CustomJSONEncoder\n",
    "with open(\"confs_unet.json\", \"w\") as fh:\n",
    "    json.dump(mets, fh,cls=CustomJSONEncoder)"
   ]
  },
  {
   "cell_type": "markdown",
   "id": "related-packet",
   "metadata": {},
   "source": [
    "## Bonus: Compute the metrics for each flood in the test dataset"
   ]
  },
  {
   "cell_type": "code",
   "execution_count": 23,
   "id": "loaded-kenya",
   "metadata": {},
   "outputs": [
    {
     "name": "stdout",
     "output_type": "stream",
     "text": [
      "Mean values across flood events: {'Recall_land': 91.52573941861696, 'Recall_water': 91.68340023029785, 'IoU_land': 90.41267220814505, 'IoU_water': 74.83775500818484}\n"
     ]
    },
    {
     "data": {
      "text/html": [
       "<div>\n",
       "<style scoped>\n",
       "    .dataframe tbody tr th:only-of-type {\n",
       "        vertical-align: middle;\n",
       "    }\n",
       "\n",
       "    .dataframe tbody tr th {\n",
       "        vertical-align: top;\n",
       "    }\n",
       "\n",
       "    .dataframe thead th {\n",
       "        text-align: right;\n",
       "    }\n",
       "</style>\n",
       "<table border=\"1\" class=\"dataframe\">\n",
       "  <thead>\n",
       "    <tr style=\"text-align: right;\">\n",
       "      <th></th>\n",
       "      <th>Recall_land</th>\n",
       "      <th>Recall_water</th>\n",
       "      <th>IoU_land</th>\n",
       "      <th>IoU_water</th>\n",
       "    </tr>\n",
       "    <tr>\n",
       "      <th>code</th>\n",
       "      <th></th>\n",
       "      <th></th>\n",
       "      <th></th>\n",
       "      <th></th>\n",
       "    </tr>\n",
       "  </thead>\n",
       "  <tbody>\n",
       "    <tr>\n",
       "      <th>EMSR286 (Colombia)</th>\n",
       "      <td>98.999642</td>\n",
       "      <td>96.037458</td>\n",
       "      <td>98.687782</td>\n",
       "      <td>85.333344</td>\n",
       "    </tr>\n",
       "    <tr>\n",
       "      <th>EMSR333 (Italy)</th>\n",
       "      <td>97.508000</td>\n",
       "      <td>86.472094</td>\n",
       "      <td>96.757042</td>\n",
       "      <td>60.286360</td>\n",
       "    </tr>\n",
       "    <tr>\n",
       "      <th>EMSR342 (Australia)</th>\n",
       "      <td>70.840026</td>\n",
       "      <td>96.952482</td>\n",
       "      <td>68.835375</td>\n",
       "      <td>74.284838</td>\n",
       "    </tr>\n",
       "    <tr>\n",
       "      <th>EMSR347 (Malawi)</th>\n",
       "      <td>99.484285</td>\n",
       "      <td>81.622685</td>\n",
       "      <td>97.821419</td>\n",
       "      <td>77.312288</td>\n",
       "    </tr>\n",
       "    <tr>\n",
       "      <th>EMSR284 (Finland)</th>\n",
       "      <td>90.796744</td>\n",
       "      <td>97.332282</td>\n",
       "      <td>89.961744</td>\n",
       "      <td>76.971944</td>\n",
       "    </tr>\n",
       "  </tbody>\n",
       "</table>\n",
       "</div>"
      ],
      "text/plain": [
       "                     Recall_land  Recall_water   IoU_land  IoU_water\n",
       "code                                                                \n",
       "EMSR286 (Colombia)     98.999642     96.037458  98.687782  85.333344\n",
       "EMSR333 (Italy)        97.508000     86.472094  96.757042  60.286360\n",
       "EMSR342 (Australia)    70.840026     96.952482  68.835375  74.284838\n",
       "EMSR347 (Malawi)       99.484285     81.622685  97.821419  77.312288\n",
       "EMSR284 (Finland)      90.796744     97.332282  89.961744  76.971944"
      ]
     },
     "execution_count": 23,
     "metadata": {},
     "output_type": "execute_result"
    }
   ],
   "source": [
    "CODES_LOC = {\"EMSR333\": \"EMSR333 (Italy)\",\n",
    "             \"EMSR9284\": \"EMSR284 (Finland)\",\n",
    "             \"EMSR347\": \"EMSR347 (Malawi)\",\n",
    "             \"EMSR286\": \"EMSR286 (Colombia)\",\n",
    "             \"EMSR342\": \"EMSR342 (Australia)\"\n",
    "            }\n",
    "\n",
    "if hasattr(dl.dataset, \"image_files\"):\n",
    "    cems_code = [os.path.basename(f).split(\"_\")[0] for f in dl.dataset.image_files]\n",
    "else:\n",
    "    cems_code = [os.path.basename(f.file_name).split(\"_\")[0] for f in dl.dataset.list_of_windows]\n",
    "\n",
    "iou_per_code = pd.DataFrame(metrics.group_confusion(mets[\"confusions\"], cems_code, metrics.calculate_iou,\n",
    "                                                    label_names=[f\"IoU_{l}\"for l in label_names]))\n",
    "\n",
    "recall_per_code = pd.DataFrame(metrics.group_confusion(mets[\"confusions\"],cems_code, metrics.calculate_recall,\n",
    "                                                       label_names=[f\"Recall_{l}\"for l in label_names]))\n",
    "\n",
    "join_data_per_code = pd.merge(recall_per_code,iou_per_code,on=\"code\")\n",
    "join_data_per_code[\"code\"] = join_data_per_code[\"code\"].apply(lambda x: CODES_LOC.get(x,x))\n",
    "join_data_per_code = join_data_per_code.set_index(\"code\")\n",
    "join_data_per_code = join_data_per_code*100\n",
    "print(f\"Mean values across flood events: {join_data_per_code.mean(axis=0).to_dict()}\")\n",
    "join_data_per_code"
   ]
  },
  {
   "cell_type": "code",
   "execution_count": null,
   "id": "going-decline",
   "metadata": {},
   "outputs": [],
   "source": []
  }
 ],
 "metadata": {
  "celltoolbar": "Edit Metadata",
  "kernelspec": {
   "display_name": "Python [conda env:ml4floods]",
   "language": "python",
   "name": "conda-env-ml4floods-py"
  },
  "language_info": {
   "codemirror_mode": {
    "name": "ipython",
    "version": 3
   },
   "file_extension": ".py",
   "mimetype": "text/x-python",
   "name": "python",
   "nbconvert_exporter": "python",
   "pygments_lexer": "ipython3",
   "version": "3.8.8"
  }
 },
 "nbformat": 4,
 "nbformat_minor": 5
}
